{
  "cells": [
    {
      "cell_type": "markdown",
      "metadata": {
        "id": "EJ8sccUFV2y3"
      },
      "source": [
        "# Python for Machine Learning FDP\n",
        "\n",
        "Author: P. Venkateswara Rao"
      ]
    },
    {
      "cell_type": "markdown",
      "metadata": {
        "id": "e2jirJQ2V2y8"
      },
      "source": [
        "# Day1: Agenda"
      ]
    },
    {
      "cell_type": "markdown",
      "metadata": {
        "id": "18XtjkGIV2y8"
      },
      "source": [
        "1. [History of Python and Importance](#his)\n",
        "\n",
        "2. [Important Shortcuts](#Important_Shortcuts)\n",
        "\n",
        "3. [Comments in Python](#Comments_in_Python)\n",
        "\n",
        "4. [Variables in Python](#Variables_in_Python)\n",
        "\n",
        "5. [Print Function and read function](#pfrf)\n",
        "\n",
        "6. [Data Types in Python](#dtip)\n",
        "\n",
        "7. [Identifiers nothing but memory loacations](#inbml)\n",
        "\n",
        "8. [Operators in python](#Operators_in_python)\n",
        "\n",
        "9. [Other Operators](#oo)\n",
        "\n",
        "10. [Operations on Data Types](#oodt)\n",
        "\n",
        "11. [Strings](#s)\n",
        "\n",
        "12. [Built-in Mathematical Functions](#mf)\n",
        "\n",
        "13. [Control statements](#cs)\n",
        "\n",
        "14. [For Loop](#fl)\n",
        "\n",
        "15. [Lists](#lists)\n",
        "\n",
        "16. [Tuples](#tup)\n",
        "\n",
        "17. [Functions](#fun)\n",
        "\n",
        "18. [Questions](#que)\n",
        "\n",
        "19. [Dictionaries](#dict)\n",
        "\n",
        "20. [Sets](#sets)\n",
        "\n",
        "21. [Any Queries](#quer)"
      ]
    },
    {
      "cell_type": "markdown",
      "metadata": {
        "id": "EFWQcKyOV2y9"
      },
      "source": [
        "<a id='his'></a>\n",
        "# History and Importance"
      ]
    },
    {
      "cell_type": "markdown",
      "metadata": {
        "id": "3t0wqVqHV2y_"
      },
      "source": [
        "<center>\n",
        "    <img src = History_of_Python.jpg />\n",
        "    </center>"
      ]
    },
    {
      "cell_type": "markdown",
      "metadata": {
        "id": "oHhwY0wUV2y_"
      },
      "source": [
        "# Python is Everywhere now"
      ]
    },
    {
      "cell_type": "markdown",
      "metadata": {
        "id": "z1jZw259V2zA"
      },
      "source": [
        "<div style=display:flex; flex-direction:column;>\n",
        "      <img src = AI_ML_DL.png width=400 height=400 style=margin-left:-15px/>\n",
        "      <img src = programvsml.png  width=200 height=200/>\n",
        "      <img src = probability_vs_stats.png  width=200 height=200/>\n",
        "    </div>\n",
        "  "
      ]
    },
    {
      "cell_type": "markdown",
      "metadata": {
        "id": "DzO3xyfdV2zB"
      },
      "source": [
        "<a id='Important_Shortcuts'></a>\n",
        "#**Important Shortcuts**\n",
        "\n",
        "*The b key will make a new cell below the currently selected cell.\n",
        "\n",
        "*The a key will make one above.\n",
        "\n",
        "*The x key will delete the current cell."
      ]
    },
    {
      "cell_type": "markdown",
      "metadata": {
        "id": "jUaKc4f9V2zC"
      },
      "source": [
        "\n",
        "<a id='Comments_in_Python'></a>\n",
        "# Comments in Python\n",
        "1. A line preceded by the character ‘#’\n",
        "\n",
        "2. No Block/Multi-line Comment\n",
        "\n",
        "3. Line Continuation with ‘\\’\n",
        "\n",
        "    i.Put a ‘\\’ (backslash) character at the end of the line\n",
        "    \n",
        "    ii.Statements can be continued with ending ‘\\’\n",
        "    \n",
        "\n",
        "    "
      ]
    },
    {
      "cell_type": "code",
      "execution_count": 1,
      "metadata": {
        "colab": {
          "base_uri": "https://localhost:8080/"
        },
        "id": "WhetttUYV2zV",
        "outputId": "e8a5aa52-bce0-4f16-bb6d-c419aa23a539"
      },
      "outputs": [
        {
          "output_type": "stream",
          "name": "stdout",
          "text": [
            "Python version\n",
            "3.11.13 (main, Jun  4 2025, 08:57:29) [GCC 11.4.0]\n",
            "Version info.\n",
            "sys.version_info(major=3, minor=11, micro=13, releaselevel='final', serial=0)\n"
          ]
        }
      ],
      "source": [
        "import sys\n",
        "print(\"Python version\")\n",
        "print (sys.version)\n",
        "print(\"Version info.\")\n",
        "print (sys.version_info)"
      ]
    },
    {
      "cell_type": "markdown",
      "metadata": {
        "id": "Awu9hjDqV2zW"
      },
      "source": [
        "<a id='Variables_in_Python'></a>\n",
        "# Variables in Python"
      ]
    },
    {
      "cell_type": "markdown",
      "metadata": {
        "id": "pFSqbQAzV2zX"
      },
      "source": [
        "contain letters, digits, and underscores\n",
        "\n",
        "cannot start with digit\n",
        "\n",
        "case sensitive"
      ]
    },
    {
      "cell_type": "code",
      "execution_count": 3,
      "metadata": {
        "id": "UEbO_uMnV2zX"
      },
      "outputs": [],
      "source": [
        "age = 19\n",
        "name = 'suvinsai'"
      ]
    },
    {
      "cell_type": "markdown",
      "metadata": {
        "id": "i99jH68MV2zX"
      },
      "source": [
        "<a id='pfrf'></a>\n",
        "# Print Function and read function"
      ]
    },
    {
      "cell_type": "code",
      "execution_count": 4,
      "metadata": {
        "id": "dHKgNigMV2zX",
        "outputId": "7f1081ef-f7e2-4136-fa4e-e263b0162555",
        "colab": {
          "base_uri": "https://localhost:8080/"
        }
      },
      "outputs": [
        {
          "output_type": "stream",
          "name": "stdout",
          "text": [
            "19\n",
            "suvinsai\n"
          ]
        }
      ],
      "source": [
        "print(age)\n",
        "print(name)"
      ]
    },
    {
      "cell_type": "code",
      "execution_count": 6,
      "metadata": {
        "id": "T8msloa-V2zY",
        "outputId": "2fa17e14-65ff-47a1-a8ae-12631e590d08",
        "colab": {
          "base_uri": "https://localhost:8080/"
        }
      },
      "outputs": [
        {
          "output_type": "stream",
          "name": "stdout",
          "text": [
            "age=  19\n",
            "name= suvinsai\n"
          ]
        }
      ],
      "source": [
        "print(\"age= \",age)\n",
        "print(\"name=\",name)"
      ]
    },
    {
      "cell_type": "code",
      "execution_count": 7,
      "metadata": {
        "id": "MDn5sXbTV2zY",
        "outputId": "e471298b-a7d1-47c9-d272-85e31d1b2970",
        "colab": {
          "base_uri": "https://localhost:8080/"
        }
      },
      "outputs": [
        {
          "output_type": "stream",
          "name": "stdout",
          "text": [
            "Enter the age19\n",
            "19\n"
          ]
        }
      ],
      "source": [
        "age = int(input('Enter the age'))\n",
        "print(age)"
      ]
    },
    {
      "cell_type": "code",
      "execution_count": 8,
      "metadata": {
        "id": "E_pHDBPpV2zY",
        "outputId": "831f0dad-214c-44ca-e93a-bef9235d8698",
        "colab": {
          "base_uri": "https://localhost:8080/"
        }
      },
      "outputs": [
        {
          "output_type": "stream",
          "name": "stdout",
          "text": [
            "Enter namesuvin sai\n",
            "suvin sai\n"
          ]
        }
      ],
      "source": [
        "name = input('Enter name')\n",
        "print(name)"
      ]
    },
    {
      "cell_type": "markdown",
      "metadata": {
        "id": "03e92q2eV2zZ"
      },
      "source": [
        "# String Formatting"
      ]
    },
    {
      "cell_type": "code",
      "execution_count": 10,
      "metadata": {
        "id": "VjD0cbZGV2zZ",
        "outputId": "934ef6fb-b298-4d6d-937b-b74942b122b0",
        "colab": {
          "base_uri": "https://localhost:8080/",
          "height": 36
        }
      },
      "outputs": [
        {
          "output_type": "execute_result",
          "data": {
            "text/plain": [
              "'     4.146'"
            ],
            "application/vnd.google.colaboratory.intrinsic+json": {
              "type": "string"
            }
          },
          "metadata": {},
          "execution_count": 10
        }
      ],
      "source": [
        "'%10.3f' % (4.14592653589793,)"
      ]
    },
    {
      "cell_type": "code",
      "execution_count": 11,
      "metadata": {
        "id": "_oBvDE6eV2za",
        "outputId": "fd65873e-b13c-484e-ae80-4c7a70b993bc",
        "colab": {
          "base_uri": "https://localhost:8080/"
        }
      },
      "outputs": [
        {
          "output_type": "stream",
          "name": "stdout",
          "text": [
            "Python 3.6\n",
            "Pytho 3.7\n"
          ]
        }
      ],
      "source": [
        "strNew = \"{:5s} {:.1f}\".format('Python', 3.64)\n",
        "print(strNew)\n",
        "strNew = \"{:.5s} {:.1f}\".format('Python', 3.66)\n",
        "print(strNew)"
      ]
    },
    {
      "cell_type": "code",
      "execution_count": 12,
      "metadata": {
        "id": "nJyC3pvWV2za",
        "outputId": "679e82b0-df24-4961-896f-8ad67b530402",
        "colab": {
          "base_uri": "https://localhost:8080/"
        }
      },
      "outputs": [
        {
          "output_type": "stream",
          "name": "stdout",
          "text": [
            "0000003.14\n",
            "2.7183    \n",
            "0000003.14\n",
            "    2.7183\n"
          ]
        }
      ],
      "source": [
        "import math\n",
        "print('%010.2f' % (math.pi,))\n",
        "print('%-10.4f' % (math.e))\n",
        "print('{:010.2f}'.format(math.pi,))\n",
        "print('{:10.4f}'.format(math.e))"
      ]
    },
    {
      "cell_type": "code",
      "execution_count": 15,
      "metadata": {
        "id": "DHLIj9uAV2za",
        "outputId": "b7aa40e0-48b4-4244-c1da-0118ec906482",
        "colab": {
          "base_uri": "https://localhost:8080/"
        }
      },
      "outputs": [
        {
          "output_type": "stream",
          "name": "stdout",
          "text": [
            "Python 5\n",
            "Python 8\n",
            "Python 3\n",
            "Python 3\n",
            "Python 3\n",
            "Python 3\n",
            "Python 3\n"
          ]
        }
      ],
      "source": [
        "strOld = \"%s %d\" % ('Python', 5)\n",
        "print(strOld)\n",
        "strNew = \"{} {}\".format('Python', 8)\n",
        "print(strNew)\n",
        "strPos = \"{1} {0}\".format(3, 'Python')\n",
        "print(strPos)\n",
        "strOld = \"%(lang)s %(ver)d\" % {'ver':3, 'lang':'Python'}\n",
        "print(strPos)\n",
        "kwargs = {'ver':3, 'lang':'Python'}\n",
        "strNew1 = \"{lang} {ver}\".format(**kwargs)\n",
        "print(strNew1)\n",
        "strKey2 = \"{lang} {ver}\".format(** {'ver':3, 'lang':'Python'})\n",
        "print(strKey2)\n",
        "strKey3 = \"{lang} {ver}\".format(ver=3, lang='Python')\n",
        "print(strKey3)"
      ]
    },
    {
      "cell_type": "code",
      "execution_count": 16,
      "metadata": {
        "id": "4Dbbcm-RV2zb",
        "outputId": "e23e9e2a-b0e6-4edf-a134-fbdf31c376c3",
        "colab": {
          "base_uri": "https://localhost:8080/"
        }
      },
      "outputs": [
        {
          "output_type": "stream",
          "name": "stdout",
          "text": [
            "Hello World         \n",
            "         Hello World\n",
            "    Hello World     \n",
            "=========Hello World\n",
            "****Hello World*****\n",
            "     3.142\n",
            "000003.142\n",
            "    -3.142\n",
            "-----3.142\n",
            "---3.142--\n",
            "00-3.14200\n"
          ]
        }
      ],
      "source": [
        "text = \"Hello World\"\n",
        "print(format(text, '<20'))\n",
        "print(format(text, '>20'))\n",
        "print(format(text, '^20'))\n",
        "print(format(text, '=>20s'))\n",
        "print(format(text, '*^20s'))\n",
        "import math\n",
        "print(format(math.pi, '>10.4'))\n",
        "print(format(math.pi, '>010.4'))\n",
        "print(format(-math.pi, '>-10.4'))\n",
        "print(format(-math.pi, '->10.4'))\n",
        "print(format(-math.pi, '-^10.4'))\n",
        "print(format(-math.pi, '0^10.4'))"
      ]
    },
    {
      "cell_type": "markdown",
      "metadata": {
        "id": "gtzBg-3xV2zb"
      },
      "source": [
        "<a id='dtip'></a>\n",
        "# Data Types in Python\n",
        "\n",
        "1. String\n",
        "2. Int\n",
        "3. Float\n",
        "4. Bool"
      ]
    },
    {
      "cell_type": "code",
      "execution_count": 17,
      "metadata": {
        "id": "OiNIAdygV2zb"
      },
      "outputs": [],
      "source": [
        "ex_string = 'Hello World!'\n",
        "ex_int = 8\n",
        "ex_float = 12.5\n",
        "ex_bool = False"
      ]
    },
    {
      "cell_type": "code",
      "source": [
        "print(ex_string)\n",
        "print(ex_int)\n",
        "print(ex_float)\n",
        "print(ex_bool)"
      ],
      "metadata": {
        "colab": {
          "base_uri": "https://localhost:8080/"
        },
        "id": "_HO2Fookrx2O",
        "outputId": "7deebd51-bcdf-4adf-ea3b-28edab0e66f5"
      },
      "execution_count": 18,
      "outputs": [
        {
          "output_type": "stream",
          "name": "stdout",
          "text": [
            "Hello World!\n",
            "8\n",
            "12.5\n",
            "False\n"
          ]
        }
      ]
    },
    {
      "cell_type": "markdown",
      "source": [
        "Display book information like title, author, cost, quantity, ispdfavailble"
      ],
      "metadata": {
        "id": "K1X1y2i1spgA"
      }
    },
    {
      "cell_type": "code",
      "execution_count": 19,
      "metadata": {
        "id": "FVwhYk3kV2zb",
        "outputId": "48a83d52-170d-4c0b-9d7e-435804fea838",
        "colab": {
          "base_uri": "https://localhost:8080/"
        }
      },
      "outputs": [
        {
          "output_type": "stream",
          "name": "stdout",
          "text": [
            "<class 'str'>\n",
            "<class 'int'>\n",
            "<class 'float'>\n",
            "<class 'bool'>\n"
          ]
        }
      ],
      "source": [
        "print(type(ex_string))\n",
        "print(type(ex_int))\n",
        "print(type(ex_float))\n",
        "print(type(ex_bool))"
      ]
    },
    {
      "cell_type": "code",
      "execution_count": 20,
      "metadata": {
        "id": "8oChUiaMV2zc",
        "outputId": "c94f94eb-17ed-427e-f045-1077dc282bdb",
        "colab": {
          "base_uri": "https://localhost:8080/"
        }
      },
      "outputs": [
        {
          "output_type": "execute_result",
          "data": {
            "text/plain": [
              "str"
            ]
          },
          "metadata": {},
          "execution_count": 20
        }
      ],
      "source": [
        "type(ex_string)"
      ]
    },
    {
      "cell_type": "code",
      "execution_count": 21,
      "metadata": {
        "id": "kowxYu9rV2zc",
        "outputId": "3b87e2ae-d750-4581-ac03-44e8c885d9c7",
        "colab": {
          "base_uri": "https://localhost:8080/"
        }
      },
      "outputs": [
        {
          "output_type": "execute_result",
          "data": {
            "text/plain": [
              "int"
            ]
          },
          "metadata": {},
          "execution_count": 21
        }
      ],
      "source": [
        "type(ex_int)"
      ]
    },
    {
      "cell_type": "code",
      "execution_count": 22,
      "metadata": {
        "id": "BszEc2TDV2zc",
        "outputId": "1c2bcd20-38b3-4229-9ea7-fd59d23d6e06",
        "colab": {
          "base_uri": "https://localhost:8080/"
        }
      },
      "outputs": [
        {
          "output_type": "execute_result",
          "data": {
            "text/plain": [
              "float"
            ]
          },
          "metadata": {},
          "execution_count": 22
        }
      ],
      "source": [
        "type(ex_float)"
      ]
    },
    {
      "cell_type": "code",
      "execution_count": 23,
      "metadata": {
        "id": "HyMA1KANV2zd",
        "outputId": "a5ce4096-eab5-49af-9a8f-e350bd59fb5d",
        "colab": {
          "base_uri": "https://localhost:8080/"
        }
      },
      "outputs": [
        {
          "output_type": "execute_result",
          "data": {
            "text/plain": [
              "bool"
            ]
          },
          "metadata": {},
          "execution_count": 23
        }
      ],
      "source": [
        "type(ex_bool)"
      ]
    },
    {
      "cell_type": "code",
      "execution_count": 26,
      "metadata": {
        "id": "Jxq1yG55V2zd",
        "outputId": "4f9ec7c7-a6cb-4a2d-d92c-1d0cba2bd656",
        "colab": {
          "base_uri": "https://localhost:8080/"
        }
      },
      "outputs": [
        {
          "output_type": "stream",
          "name": "stdout",
          "text": [
            "16\n",
            "0b10000\n"
          ]
        }
      ],
      "source": [
        "a = 0b1111\n",
        "b = 0b1\n",
        "print(a+b)\n",
        "print(bin(a+b))"
      ]
    },
    {
      "cell_type": "code",
      "execution_count": 27,
      "metadata": {
        "id": "trpcsi1cV2zd",
        "outputId": "0d5d2349-0901-4fdf-ce00-9e1ff8a7722a",
        "colab": {
          "base_uri": "https://localhost:8080/",
          "height": 36
        }
      },
      "outputs": [
        {
          "output_type": "execute_result",
          "data": {
            "text/plain": [
              "'Hello World!'"
            ],
            "application/vnd.google.colaboratory.intrinsic+json": {
              "type": "string"
            }
          },
          "metadata": {},
          "execution_count": 27
        }
      ],
      "source": [
        "ex_string"
      ]
    },
    {
      "cell_type": "code",
      "execution_count": 28,
      "metadata": {
        "id": "zQf-ZuitV2zd",
        "outputId": "14e2a368-52d0-4d10-b942-d1ff98dd30fc",
        "colab": {
          "base_uri": "https://localhost:8080/"
        }
      },
      "outputs": [
        {
          "output_type": "stream",
          "name": "stdout",
          "text": [
            "Hello World!\n"
          ]
        }
      ],
      "source": [
        "print(ex_string)"
      ]
    },
    {
      "cell_type": "markdown",
      "metadata": {
        "id": "KWrnLn69V2ze"
      },
      "source": [
        "<a id='inbml'></a>\n",
        "# Identifiers nothing but memory loacations"
      ]
    },
    {
      "cell_type": "code",
      "execution_count": 30,
      "metadata": {
        "id": "u1OoUo5UV2ze",
        "outputId": "18356c74-3494-4c81-ee02-bb4e40afb1a7",
        "colab": {
          "base_uri": "https://localhost:8080/"
        }
      },
      "outputs": [
        {
          "output_type": "execute_result",
          "data": {
            "text/plain": [
              "138828741238448"
            ]
          },
          "metadata": {},
          "execution_count": 30
        }
      ],
      "source": [
        "id(ex_string)"
      ]
    },
    {
      "cell_type": "code",
      "execution_count": 31,
      "metadata": {
        "id": "Wu3gdu09V2ze"
      },
      "outputs": [],
      "source": [
        "ex_int_2 = ex_int"
      ]
    },
    {
      "cell_type": "code",
      "execution_count": 32,
      "metadata": {
        "id": "8ImUyud4V2ze",
        "outputId": "3166204c-88c0-4153-809e-300aa4156716",
        "colab": {
          "base_uri": "https://localhost:8080/"
        }
      },
      "outputs": [
        {
          "output_type": "execute_result",
          "data": {
            "text/plain": [
              "10757960"
            ]
          },
          "metadata": {},
          "execution_count": 32
        }
      ],
      "source": [
        "id(ex_int)"
      ]
    },
    {
      "cell_type": "code",
      "execution_count": 33,
      "metadata": {
        "id": "jmYImaWQV2ze",
        "outputId": "5d41a3bb-f373-4aac-c576-ba953bbeb917",
        "colab": {
          "base_uri": "https://localhost:8080/"
        }
      },
      "outputs": [
        {
          "output_type": "execute_result",
          "data": {
            "text/plain": [
              "10757960"
            ]
          },
          "metadata": {},
          "execution_count": 33
        }
      ],
      "source": [
        "id(ex_int_2)"
      ]
    },
    {
      "cell_type": "code",
      "execution_count": 34,
      "metadata": {
        "id": "ibh7akTHV2zk",
        "outputId": "81759cd5-097b-47a0-d56e-a9bf8d274d82",
        "colab": {
          "base_uri": "https://localhost:8080/"
        }
      },
      "outputs": [
        {
          "output_type": "execute_result",
          "data": {
            "text/plain": [
              "20"
            ]
          },
          "metadata": {},
          "execution_count": 34
        }
      ],
      "source": [
        "ex_int + 12"
      ]
    },
    {
      "cell_type": "code",
      "execution_count": 35,
      "metadata": {
        "id": "J4RozUUgV2zk"
      },
      "outputs": [],
      "source": [
        "ex_float = ex_float + 7"
      ]
    },
    {
      "cell_type": "code",
      "execution_count": 36,
      "metadata": {
        "id": "V7FvyxJFV2zl",
        "outputId": "0bf44cd1-bc18-4de9-f5af-a93ee6faab00",
        "colab": {
          "base_uri": "https://localhost:8080/"
        }
      },
      "outputs": [
        {
          "output_type": "stream",
          "name": "stdout",
          "text": [
            "19.5\n"
          ]
        }
      ],
      "source": [
        "print(ex_float)"
      ]
    },
    {
      "cell_type": "markdown",
      "metadata": {
        "id": "Bijmr-ydV2zl"
      },
      "source": [
        "<a id='Operators_in_python'></a>\n",
        "# Operators in python"
      ]
    },
    {
      "cell_type": "code",
      "execution_count": 37,
      "metadata": {
        "colab": {
          "base_uri": "https://localhost:8080/"
        },
        "id": "CpZQ4POSV2zl",
        "outputId": "56e15a86-b27a-40ef-8ae7-4614a1d18e73"
      },
      "outputs": [
        {
          "output_type": "stream",
          "name": "stdout",
          "text": [
            "7\n",
            "5\n",
            "12\n",
            "0.8\n",
            "0\n"
          ]
        }
      ],
      "source": [
        "\n",
        "# Addition:\n",
        "print(5 + 2)\n",
        "# Subtraction:\n",
        "print(7 - 2)\n",
        "# Multiplication:\n",
        "print(6 * 2)\n",
        "# Division:\n",
        "print(4 / 5) #Float division\n",
        "print(4//5) #Integer Division"
      ]
    },
    {
      "cell_type": "markdown",
      "source": [
        "Declare two variables apples and oranges and apply all arithmatical operators"
      ],
      "metadata": {
        "id": "hSr6r-myvr2Z"
      }
    },
    {
      "cell_type": "code",
      "execution_count": 39,
      "metadata": {
        "id": "5PNU8Pm0V2zm",
        "outputId": "64ac450b-ba94-431d-8de4-be19a25d6569",
        "colab": {
          "base_uri": "https://localhost:8080/"
        }
      },
      "outputs": [
        {
          "output_type": "stream",
          "name": "stdout",
          "text": [
            "3\n",
            "-2.0\n"
          ]
        }
      ],
      "source": [
        "# Division of float numbers:\n",
        "print(6 // 2)\n",
        "print(-3.0 // 2)"
      ]
    },
    {
      "cell_type": "code",
      "execution_count": 41,
      "metadata": {
        "id": "ll-jgPwNV2zm",
        "outputId": "7ae7509c-fd30-4c1f-e0fe-81f49708de1c",
        "colab": {
          "base_uri": "https://localhost:8080/"
        }
      },
      "outputs": [
        {
          "output_type": "execute_result",
          "data": {
            "text/plain": [
              "23283064365386962890625"
            ]
          },
          "metadata": {},
          "execution_count": 41
        }
      ],
      "source": [
        "# Exponent power operator:\n",
        "5 ** 2 **5"
      ]
    },
    {
      "cell_type": "code",
      "execution_count": 42,
      "metadata": {
        "id": "H2gUTHjBV2zm",
        "outputId": "c84833be-a1e5-489c-c60c-e042eafddd3f",
        "colab": {
          "base_uri": "https://localhost:8080/"
        }
      },
      "outputs": [
        {
          "output_type": "execute_result",
          "data": {
            "text/plain": [
              "2"
            ]
          },
          "metadata": {},
          "execution_count": 42
        }
      ],
      "source": [
        "# Module can be used to get the remainder:\n",
        "5%3"
      ]
    },
    {
      "cell_type": "markdown",
      "source": [
        "Program for simple interest and area of circle"
      ],
      "metadata": {
        "id": "J6wGM36HydBd"
      }
    },
    {
      "cell_type": "code",
      "execution_count": 43,
      "metadata": {
        "id": "e0H3ONY4V2zm"
      },
      "outputs": [],
      "source": [
        "import math"
      ]
    },
    {
      "cell_type": "code",
      "execution_count": 45,
      "metadata": {
        "id": "UTxZGyksV2zn",
        "colab": {
          "base_uri": "https://localhost:8080/"
        },
        "outputId": "41ecaf61-82aa-4aa1-86fc-28bd46621463"
      },
      "outputs": [
        {
          "output_type": "execute_result",
          "data": {
            "text/plain": [
              "<module 'math' (built-in)>"
            ]
          },
          "metadata": {},
          "execution_count": 45
        }
      ],
      "source": [
        "math"
      ]
    },
    {
      "cell_type": "code",
      "execution_count": 70,
      "metadata": {
        "id": "pLV_UAEaV2zn",
        "outputId": "4ac503df-0d65-433d-ecf1-d20e19e0dda6",
        "colab": {
          "base_uri": "https://localhost:8080/",
          "height": 176
        }
      },
      "outputs": [
        {
          "output_type": "error",
          "ename": "NameError",
          "evalue": "name 'n' is not defined",
          "traceback": [
            "\u001b[0;31m---------------------------------------------------------------------------\u001b[0m",
            "\u001b[0;31mNameError\u001b[0m                                 Traceback (most recent call last)",
            "\u001b[0;32m/tmp/ipython-input-2738248732.py\u001b[0m in \u001b[0;36m<cell line: 0>\u001b[0;34m()\u001b[0m\n\u001b[0;32m----> 1\u001b[0;31m \u001b[0mmath\u001b[0m\u001b[0;34m.\u001b[0m\u001b[0mfactorial\u001b[0m\u001b[0;34m(\u001b[0m\u001b[0;36m5\u001b[0m\u001b[0;34m)\u001b[0m\u001b[0;34m/\u001b[0m\u001b[0mn\u001b[0m\u001b[0;34m\u001b[0m\u001b[0;34m\u001b[0m\u001b[0m\n\u001b[0m\u001b[1;32m      2\u001b[0m \u001b[0;34m\u001b[0m\u001b[0m\n\u001b[1;32m      3\u001b[0m \u001b[0mmath\u001b[0m\u001b[0;34m.\u001b[0m\u001b[0mfactorial\u001b[0m\u001b[0;34m(\u001b[0m\u001b[0;36m500\u001b[0m\u001b[0;34m)\u001b[0m\u001b[0;34m\u001b[0m\u001b[0;34m\u001b[0m\u001b[0m\n",
            "\u001b[0;31mNameError\u001b[0m: name 'n' is not defined"
          ]
        }
      ],
      "source": [
        "#math.factorial(5)\n",
        "\n",
        "math.factorial(500)"
      ]
    },
    {
      "cell_type": "markdown",
      "metadata": {
        "id": "nhICt2a_V2zn"
      },
      "source": [
        "<a id='oo'></a>\n",
        "# Other operators"
      ]
    },
    {
      "cell_type": "code",
      "execution_count": 51,
      "metadata": {
        "id": "GHN5B8AiV2zn",
        "outputId": "70605df0-99e2-4b4f-e5e5-b234401a2692",
        "colab": {
          "base_uri": "https://localhost:8080/"
        }
      },
      "outputs": [
        {
          "output_type": "execute_result",
          "data": {
            "text/plain": [
              "False"
            ]
          },
          "metadata": {},
          "execution_count": 51
        }
      ],
      "source": [
        "True and False"
      ]
    },
    {
      "cell_type": "code",
      "execution_count": 52,
      "metadata": {
        "id": "TyN0gWFnV2zo",
        "outputId": "a35692ac-3656-4d6d-f54d-931cb4540222",
        "colab": {
          "base_uri": "https://localhost:8080/"
        }
      },
      "outputs": [
        {
          "output_type": "execute_result",
          "data": {
            "text/plain": [
              "True"
            ]
          },
          "metadata": {},
          "execution_count": 52
        }
      ],
      "source": [
        "not False"
      ]
    },
    {
      "cell_type": "code",
      "execution_count": 53,
      "metadata": {
        "id": "SwhSr8RBV2zo",
        "outputId": "bf19db47-33aa-4b23-99f2-d7cc0113dd9a",
        "colab": {
          "base_uri": "https://localhost:8080/"
        }
      },
      "outputs": [
        {
          "output_type": "execute_result",
          "data": {
            "text/plain": [
              "True"
            ]
          },
          "metadata": {},
          "execution_count": 53
        }
      ],
      "source": [
        "True or False"
      ]
    },
    {
      "cell_type": "code",
      "execution_count": 54,
      "metadata": {
        "id": "BIEyqR5aV2zo",
        "outputId": "5de2cea9-9cf8-46d9-c04b-02c45dc90347",
        "colab": {
          "base_uri": "https://localhost:8080/"
        }
      },
      "outputs": [
        {
          "output_type": "execute_result",
          "data": {
            "text/plain": [
              "(True, False, False, False, True, True)"
            ]
          },
          "metadata": {},
          "execution_count": 54
        }
      ],
      "source": [
        "2 > 1, 2 < 1, 2 > 2, 2 < 2, 2 >= 2, 2 <= 2"
      ]
    },
    {
      "cell_type": "code",
      "execution_count": 55,
      "metadata": {
        "id": "47ejeD3xV2zo",
        "outputId": "927c692d-eed6-4d1c-f81a-b31c837b01fb",
        "colab": {
          "base_uri": "https://localhost:8080/"
        }
      },
      "outputs": [
        {
          "output_type": "execute_result",
          "data": {
            "text/plain": [
              "(True, True)"
            ]
          },
          "metadata": {},
          "execution_count": 55
        }
      ],
      "source": [
        "# equality\n",
        "[1,2] == [1,2], [1,2] != [2,1]"
      ]
    },
    {
      "cell_type": "code",
      "execution_count": 56,
      "metadata": {
        "id": "GCpu0F40V2zp",
        "outputId": "1a0ec9da-894e-49ec-b3a8-b3749ea97088",
        "colab": {
          "base_uri": "https://localhost:8080/"
        }
      },
      "outputs": [
        {
          "output_type": "stream",
          "name": "stdout",
          "text": [
            "2417851639229258349412352\n",
            "18446744073709551616\n",
            "False\n",
            "2\n",
            "0b10010\n",
            "0b11\n",
            "0b11000\n",
            "0o30\n",
            "0x18\n",
            "7\n",
            "3\n",
            "64\n",
            "8\n"
          ]
        }
      ],
      "source": [
        "#comparision operators\n",
        "\n",
        "p = 2**3**4\n",
        "print(p)\n",
        "q = 2**(4**3)\n",
        "print(q)\n",
        "print(p==q)\n",
        "print(18 & 3)\n",
        "print(bin(18))\n",
        "print(bin(3))\n",
        "\n",
        "\n",
        "print(bin(24))\n",
        "print(oct(24))\n",
        "print(hex(24))\n",
        "a=5\n",
        "b=6\n",
        "d=5|6\n",
        "print(d)\n",
        "\n",
        "print(5^6)\n",
        "\n",
        "\n",
        "###shift opertators\n",
        "\n",
        "print(4 <<4)\n",
        "print(64 >> 3)"
      ]
    },
    {
      "cell_type": "code",
      "execution_count": 57,
      "metadata": {
        "id": "-vOSOsR-V2zp",
        "outputId": "72f5e78b-3a7a-4cf9-ead9-6b3b0b2f14c4",
        "colab": {
          "base_uri": "https://localhost:8080/"
        }
      },
      "outputs": [
        {
          "output_type": "stream",
          "name": "stdout",
          "text": [
            "96\n"
          ]
        }
      ],
      "source": [
        "print(3<<5)"
      ]
    },
    {
      "cell_type": "markdown",
      "metadata": {
        "id": "dff0S7UfV2zq"
      },
      "source": [
        "<a id='oodt'></a>\n",
        "# Operations on Data Types"
      ]
    },
    {
      "cell_type": "code",
      "execution_count": 59,
      "metadata": {
        "id": "7kV8TtGdV2zq",
        "outputId": "31d90b45-22fd-44bc-ba23-7b97412a1383",
        "colab": {
          "base_uri": "https://localhost:8080/",
          "height": 36
        }
      },
      "outputs": [
        {
          "output_type": "execute_result",
          "data": {
            "text/plain": [
              "'kl bachupally'"
            ],
            "application/vnd.google.colaboratory.intrinsic+json": {
              "type": "string"
            }
          },
          "metadata": {},
          "execution_count": 59
        }
      ],
      "source": [
        "'kl' + ' ' + 'bachupally'"
      ]
    },
    {
      "cell_type": "code",
      "execution_count": 61,
      "metadata": {
        "id": "ADYv0_P4V2zr",
        "outputId": "2dc1d6ca-8c99-4f9f-ef7e-21ad7cba4892",
        "colab": {
          "base_uri": "https://localhost:8080/",
          "height": 36
        }
      },
      "outputs": [
        {
          "output_type": "execute_result",
          "data": {
            "text/plain": [
              "'kl bachupally kl bachupally kl bachupally kl bachupally kl bachupally kl bachupally kl bachupally '"
            ],
            "application/vnd.google.colaboratory.intrinsic+json": {
              "type": "string"
            }
          },
          "metadata": {},
          "execution_count": 61
        }
      ],
      "source": [
        "'kl bachupally '*7"
      ]
    },
    {
      "cell_type": "code",
      "execution_count": 63,
      "metadata": {
        "id": "ysqVCbaiV2zr",
        "outputId": "744c44e0-ee36-443d-9781-3e639a419855",
        "colab": {
          "base_uri": "https://localhost:8080/"
        }
      },
      "outputs": [
        {
          "output_type": "execute_result",
          "data": {
            "text/plain": [
              "14"
            ]
          },
          "metadata": {},
          "execution_count": 63
        }
      ],
      "source": [
        "len('klu bachupally')"
      ]
    },
    {
      "cell_type": "code",
      "execution_count": 65,
      "metadata": {
        "id": "PhmTRTJ-V2zs",
        "outputId": "2ae36253-a54f-4d3a-ffd1-80eb76af716d",
        "colab": {
          "base_uri": "https://localhost:8080/"
        }
      },
      "outputs": [
        {
          "output_type": "execute_result",
          "data": {
            "text/plain": [
              "6"
            ]
          },
          "metadata": {},
          "execution_count": 65
        }
      ],
      "source": [
        "1 + int('5')"
      ]
    },
    {
      "cell_type": "code",
      "execution_count": 67,
      "metadata": {
        "id": "S_FC0zllV2zt",
        "outputId": "8e8562b7-3d75-4384-90a8-be37ec566487",
        "colab": {
          "base_uri": "https://localhost:8080/"
        }
      },
      "outputs": [
        {
          "output_type": "execute_result",
          "data": {
            "text/plain": [
              "11"
            ]
          },
          "metadata": {},
          "execution_count": 67
        }
      ],
      "source": [
        "int(11.9)"
      ]
    },
    {
      "cell_type": "code",
      "execution_count": 68,
      "metadata": {
        "id": "xcxVwoWOV2zt",
        "outputId": "67fb8192-a79d-4595-b7b3-5b8a79ba7caf",
        "colab": {
          "base_uri": "https://localhost:8080/"
        }
      },
      "outputs": [
        {
          "output_type": "stream",
          "name": "stdout",
          "text": [
            "4.0\n"
          ]
        }
      ],
      "source": [
        "second = \"2\"\n",
        "print(2.0 * float(second))"
      ]
    },
    {
      "cell_type": "code",
      "execution_count": null,
      "metadata": {
        "id": "5Fl0cVadV2zt",
        "outputId": "f70eeca9-21bb-4ffc-bc1f-1891f22860ea"
      },
      "outputs": [
        {
          "name": "stdout",
          "output_type": "stream",
          "text": [
            " Size of int:  28 \n",
            " Size of float:  24 \n",
            " Size of complex:  32 \n",
            " Size of empty List:  64 \n",
            " Size of List with 1 item:  72 \n",
            " Size of List with 2 items:  80 \n",
            " Size of empty Tuple:  48 \n",
            " Size of Tuple with 1 item:  28 \n",
            " Size of Tuple with 2 items:  64 \n",
            " Size of Tuple with 3 items:  72 \n",
            " Size of empty Set:  240 \n",
            " Size of Set with 1 item:  224 \n",
            " Size of Set with 2 items:  224 \n",
            " Size of Dict with 1 item:  240 \n",
            " Size of Dict with 2 items:  240\n"
          ]
        }
      ],
      "source": [
        "import sys\n",
        "print(\" Size of int: \", sys.getsizeof(10), \"\\n\",\n",
        "\"Size of float: \", sys.getsizeof(10.3), \"\\n\",\n",
        "\"Size of complex: \", sys.getsizeof(2+3j), \"\\n\",\n",
        "\"Size of empty List: \", sys.getsizeof([]), \"\\n\",\n",
        "\"Size of List with 1 item: \", sys.getsizeof([1]), \"\\n\",\n",
        "\"Size of List with 2 items: \", sys.getsizeof([1,2]), \"\\n\",\n",
        "\"Size of empty Tuple: \", sys.getsizeof(()), \"\\n\",\n",
        "\"Size of Tuple with 1 item: \", sys.getsizeof((1)), \"\\n\",\n",
        "\"Size of Tuple with 2 items: \", sys.getsizeof((1,2)), \"\\n\",\n",
        "\"Size of Tuple with 3 items: \", sys.getsizeof((1,2,3)), \"\\n\",\n",
        "\"Size of empty Set: \", sys.getsizeof({}), \"\\n\",\n",
        "\"Size of Set with 1 item: \", sys.getsizeof({1}), \"\\n\",\n",
        "\"Size of Set with 2 items: \", sys.getsizeof({1,2}), \"\\n\",\n",
        "\"Size of Dict with 1 item: \", sys.getsizeof({\"n\":1}), \"\\n\",\n",
        "\"Size of Dict with 2 items: \", sys.getsizeof({\"n\":1, \"m\":2}))"
      ]
    },
    {
      "cell_type": "markdown",
      "metadata": {
        "id": "wlKwSpywV2zt"
      },
      "source": [
        "# Question\n",
        "\n",
        "Which of the following would return a float of 2.0?\n",
        "\n",
        "first = 1.0 second = \"2\" third = \"3.3\"\n",
        "\n",
        "first + float(second)\n",
        "\n",
        "float(second) + float(third)\n",
        "\n",
        "first + int(third)\n",
        "\n",
        "first + int(float(third))\n",
        "\n",
        "int(first) + int(float(third))\n",
        "\n",
        "2.0 * second"
      ]
    },
    {
      "cell_type": "markdown",
      "metadata": {
        "id": "3WIGSic5V2zu"
      },
      "source": [
        "<a id='s'></a>\n",
        "# Strings"
      ]
    },
    {
      "cell_type": "code",
      "execution_count": 76,
      "metadata": {
        "id": "UIV8pZTyV2zu",
        "outputId": "e2172723-4da1-48d8-e2a6-760c48728786",
        "colab": {
          "base_uri": "https://localhost:8080/",
          "height": 53
        }
      },
      "outputs": [
        {
          "output_type": "stream",
          "name": "stdout",
          "text": [
            "11\n"
          ]
        },
        {
          "output_type": "execute_result",
          "data": {
            "text/plain": [
              "'o'"
            ],
            "application/vnd.google.colaboratory.intrinsic+json": {
              "type": "string"
            }
          },
          "metadata": {},
          "execution_count": 76
        }
      ],
      "source": [
        "s = \"Hello world\"\n",
        "type(s)\n",
        "print(len(s))\n",
        "# Indexing the first (index 0) character in the string:\n",
        "s[4]\n"
      ]
    },
    {
      "cell_type": "code",
      "execution_count": 77,
      "metadata": {
        "id": "VTlkgB1bV2zu",
        "outputId": "ccdf6397-30a5-4d77-8d55-f48f7641d153",
        "colab": {
          "base_uri": "https://localhost:8080/",
          "height": 36
        }
      },
      "outputs": [
        {
          "output_type": "execute_result",
          "data": {
            "text/plain": [
              "'Hello'"
            ],
            "application/vnd.google.colaboratory.intrinsic+json": {
              "type": "string"
            }
          },
          "metadata": {},
          "execution_count": 77
        }
      ],
      "source": [
        "# This is called *slicing*. We start at the left index\n",
        "#   and go up to but don't include the right index:\n",
        "\n",
        "# Objects at indexes 0, 1, and 2\n",
        "s[0:5]"
      ]
    },
    {
      "cell_type": "code",
      "execution_count": 78,
      "metadata": {
        "id": "IAn5BC63V2zu",
        "outputId": "402fc92e-91b2-4033-e7e3-81877fb776bc",
        "colab": {
          "base_uri": "https://localhost:8080/",
          "height": 36
        }
      },
      "outputs": [
        {
          "output_type": "execute_result",
          "data": {
            "text/plain": [
              "'world'"
            ],
            "application/vnd.google.colaboratory.intrinsic+json": {
              "type": "string"
            }
          },
          "metadata": {},
          "execution_count": 78
        }
      ],
      "source": [
        "# From index 6 up to the end of the string:\n",
        "s[6:]"
      ]
    },
    {
      "cell_type": "code",
      "execution_count": 79,
      "metadata": {
        "id": "asusw8O_V2zv",
        "outputId": "19632393-cd10-456b-8541-cb0ea2ed5a98",
        "colab": {
          "base_uri": "https://localhost:8080/",
          "height": 36
        }
      },
      "outputs": [
        {
          "output_type": "execute_result",
          "data": {
            "text/plain": [
              "'Hello world'"
            ],
            "application/vnd.google.colaboratory.intrinsic+json": {
              "type": "string"
            }
          },
          "metadata": {},
          "execution_count": 79
        }
      ],
      "source": [
        "# No start or end specified:\n",
        "s[:]"
      ]
    },
    {
      "cell_type": "code",
      "execution_count": 80,
      "metadata": {
        "id": "gWsXvyvBV2zv",
        "outputId": "fc08606e-c408-4d7e-a5f3-668f652c7562",
        "colab": {
          "base_uri": "https://localhost:8080/",
          "height": 36
        }
      },
      "outputs": [
        {
          "output_type": "execute_result",
          "data": {
            "text/plain": [
              "'r'"
            ],
            "application/vnd.google.colaboratory.intrinsic+json": {
              "type": "string"
            }
          },
          "metadata": {},
          "execution_count": 80
        }
      ],
      "source": [
        "# Can we index from the right side?\n",
        "s[-3]"
      ]
    },
    {
      "cell_type": "code",
      "execution_count": 81,
      "metadata": {
        "id": "3z2tqcE1V2zv",
        "outputId": "dd65bc0b-68e7-4b60-bc0d-a1ccb5b10968",
        "colab": {
          "base_uri": "https://localhost:8080/",
          "height": 36
        }
      },
      "outputs": [
        {
          "output_type": "execute_result",
          "data": {
            "text/plain": [
              "'ello wo'"
            ],
            "application/vnd.google.colaboratory.intrinsic+json": {
              "type": "string"
            }
          },
          "metadata": {},
          "execution_count": 81
        }
      ],
      "source": [
        "s[1:-3]"
      ]
    },
    {
      "cell_type": "markdown",
      "metadata": {
        "id": "tD_MrXD9V2zv"
      },
      "source": [
        "In addition to specifying a range, you can add a step size or character skip rate."
      ]
    },
    {
      "cell_type": "code",
      "execution_count": 82,
      "metadata": {
        "id": "HrqIk9ELV2zw",
        "outputId": "28648a10-5d27-4911-d364-7b6749796a4e",
        "colab": {
          "base_uri": "https://localhost:8080/",
          "height": 36
        }
      },
      "outputs": [
        {
          "output_type": "execute_result",
          "data": {
            "text/plain": [
              "'Hlwl'"
            ],
            "application/vnd.google.colaboratory.intrinsic+json": {
              "type": "string"
            }
          },
          "metadata": {},
          "execution_count": 82
        }
      ],
      "source": [
        "# Define a step size of 2, i.e., every other character:\n",
        "s[::3]"
      ]
    },
    {
      "cell_type": "code",
      "execution_count": 83,
      "metadata": {
        "id": "IFCQQs3GV2zw"
      },
      "outputs": [],
      "source": [
        "album = 'klh bach'"
      ]
    },
    {
      "cell_type": "code",
      "execution_count": 84,
      "metadata": {
        "scrolled": true,
        "id": "GmrDmsGmV2zw",
        "outputId": "79b0cf4b-b4f0-40ac-d583-995feadf16db",
        "colab": {
          "base_uri": "https://localhost:8080/"
        }
      },
      "outputs": [
        {
          "output_type": "stream",
          "name": "stdout",
          "text": [
            "k\n"
          ]
        }
      ],
      "source": [
        "print(album[0])"
      ]
    },
    {
      "cell_type": "code",
      "execution_count": 85,
      "metadata": {
        "id": "bWJi_vkbV2zw",
        "outputId": "450722ea-e513-4d50-a039-0909ea7450d4",
        "colab": {
          "base_uri": "https://localhost:8080/",
          "height": 36
        }
      },
      "outputs": [
        {
          "output_type": "execute_result",
          "data": {
            "text/plain": [
              "'klh '"
            ],
            "application/vnd.google.colaboratory.intrinsic+json": {
              "type": "string"
            }
          },
          "metadata": {},
          "execution_count": 85
        }
      ],
      "source": [
        "album[0:4]"
      ]
    },
    {
      "cell_type": "code",
      "execution_count": 86,
      "metadata": {
        "id": "oREte379V2zx",
        "outputId": "9ea1f4c4-ae1c-4967-da60-04b010072fa3",
        "colab": {
          "base_uri": "https://localhost:8080/",
          "height": 36
        }
      },
      "outputs": [
        {
          "output_type": "execute_result",
          "data": {
            "text/plain": [
              "'bach'"
            ],
            "application/vnd.google.colaboratory.intrinsic+json": {
              "type": "string"
            }
          },
          "metadata": {},
          "execution_count": 86
        }
      ],
      "source": [
        "album[4:]"
      ]
    },
    {
      "cell_type": "code",
      "execution_count": 87,
      "metadata": {
        "id": "RstRoMD9V2z2",
        "outputId": "af8ecb96-57ff-460b-ef41-116708eface8",
        "colab": {
          "base_uri": "https://localhost:8080/"
        }
      },
      "outputs": [
        {
          "output_type": "execute_result",
          "data": {
            "text/plain": [
              "8"
            ]
          },
          "metadata": {},
          "execution_count": 87
        }
      ],
      "source": [
        "len(album)"
      ]
    },
    {
      "cell_type": "code",
      "execution_count": 88,
      "metadata": {
        "id": "SESliQcFV2z3",
        "outputId": "7cb6fd1c-c42c-4602-83b3-a7a1f6ea6f89",
        "colab": {
          "base_uri": "https://localhost:8080/"
        }
      },
      "outputs": [
        {
          "output_type": "execute_result",
          "data": {
            "text/plain": [
              "<function str.rsplit(sep=None, maxsplit=-1)>"
            ]
          },
          "metadata": {},
          "execution_count": 88
        }
      ],
      "source": [
        "s = \"Hello world\"\n",
        "type(s)\n",
        "s.rsplit\n",
        "#help(s.rsplit)"
      ]
    },
    {
      "cell_type": "code",
      "execution_count": 89,
      "metadata": {
        "id": "k5Ib5iGXV2z3",
        "outputId": "6de29b5f-c9db-4c15-cc1d-381fa858c27a",
        "colab": {
          "base_uri": "https://localhost:8080/"
        }
      },
      "outputs": [
        {
          "output_type": "stream",
          "name": "stdout",
          "text": [
            "Hello test\n"
          ]
        }
      ],
      "source": [
        "s2 = s.replace(\"world\", \"test\")\n",
        "print(s2)"
      ]
    },
    {
      "cell_type": "markdown",
      "metadata": {
        "id": "ra4vV0__V2z4"
      },
      "source": [
        "# PROBLEMS\n",
        "\n",
        "What is the final value of new_record in program below?\n",
        "\n",
        "1. What is the output if we print new_record.\n",
        "\n",
        "    record = 'Scorpion'\n",
        "    \n",
        "    new_record = record\n",
        "    \n",
        "    record = 'God's Plan'\n",
        "\n",
        "2. If a = 1532, what does a[2] return?\n",
        "\n",
        "\n",
        "3. What does the following print?\n",
        "\n",
        "    record = 'Scorpion'\n",
        "    \n",
        "    print(f\"Drake's album {record} is lyrically dense\")\n",
        "  \n",
        "  \n",
        "4. Given some string variable thing:\n",
        "\n",
        "    What does thing[low:high] do?\n",
        "\n",
        "    What does thing[low:] (without a value after the colon) do?\n",
        "\n",
        "    What does thing[:high] (without a value before the colon) do?\n",
        "\n",
        "    What does thing[:] (just a colon) do?\n",
        "\n",
        "    What does thing[number:some-negative-number] do?\n",
        "\n",
        "    What happens when you choose a high value which is out of range? (i.e., try album[15])\n",
        "    \n",
        "5. Add two binary numbers abd print their result in octal form.\n",
        "\n",
        "6. Add two hexa decimal numbers and print their result in binary form."
      ]
    },
    {
      "cell_type": "markdown",
      "metadata": {
        "id": "fDyijgzOV2z4"
      },
      "source": [
        "<a id='mf'></a>\n",
        "# Built-in Mathematical Functions"
      ]
    },
    {
      "cell_type": "code",
      "execution_count": 90,
      "metadata": {
        "id": "q7vinQ9VV2z4",
        "outputId": "e2cd4982-df8b-470d-cb38-47742cce7802",
        "colab": {
          "base_uri": "https://localhost:8080/"
        }
      },
      "outputs": [
        {
          "output_type": "stream",
          "name": "stdout",
          "text": [
            "klh bachupally is near Drk college\n"
          ]
        }
      ],
      "source": [
        "print('klh bachupally is near Drk college')"
      ]
    },
    {
      "cell_type": "code",
      "execution_count": 91,
      "metadata": {
        "id": "q6rBnqSyV2z4",
        "outputId": "7d52a15e-df2e-4f7b-e051-cd77abdfd799",
        "colab": {
          "base_uri": "https://localhost:8080/"
        }
      },
      "outputs": [
        {
          "output_type": "execute_result",
          "data": {
            "text/plain": [
              "6"
            ]
          },
          "metadata": {},
          "execution_count": 91
        }
      ],
      "source": [
        "max(3, 6, 5)"
      ]
    },
    {
      "cell_type": "code",
      "execution_count": 92,
      "metadata": {
        "id": "3GIBxaMbV2z5",
        "outputId": "ead3e79d-d904-4172-e26d-57586aeb89e3",
        "colab": {
          "base_uri": "https://localhost:8080/"
        }
      },
      "outputs": [
        {
          "output_type": "execute_result",
          "data": {
            "text/plain": [
              "2"
            ]
          },
          "metadata": {},
          "execution_count": 92
        }
      ],
      "source": [
        "min(5, 3, 2)"
      ]
    },
    {
      "cell_type": "code",
      "execution_count": 93,
      "metadata": {
        "id": "1Xfbe22lV2z5",
        "outputId": "e5cad102-f62f-41dc-af80-c45ef69317c1",
        "colab": {
          "base_uri": "https://localhost:8080/"
        }
      },
      "outputs": [
        {
          "output_type": "execute_result",
          "data": {
            "text/plain": [
              "5.333"
            ]
          },
          "metadata": {},
          "execution_count": 93
        }
      ],
      "source": [
        "round(5.3326, 3)"
      ]
    },
    {
      "cell_type": "code",
      "execution_count": 94,
      "metadata": {
        "id": "xq0f-QIXV2z5",
        "outputId": "9d4b58bc-ddae-4914-92ef-c6e7c05efdc9",
        "colab": {
          "base_uri": "https://localhost:8080/"
        }
      },
      "outputs": [
        {
          "output_type": "execute_result",
          "data": {
            "text/plain": [
              "5.9"
            ]
          },
          "metadata": {},
          "execution_count": 94
        }
      ],
      "source": [
        "round(5.88, 1)"
      ]
    },
    {
      "cell_type": "code",
      "execution_count": 95,
      "metadata": {
        "id": "FSAWUFqCV2z5"
      },
      "outputs": [],
      "source": [
        "weight = 60.1543"
      ]
    },
    {
      "cell_type": "code",
      "execution_count": 96,
      "metadata": {
        "id": "_ExRnx7LV2z6",
        "outputId": "685ce999-0ad7-4a5c-bd68-33852d413d22",
        "colab": {
          "base_uri": "https://localhost:8080/"
        }
      },
      "outputs": [
        {
          "output_type": "stream",
          "name": "stdout",
          "text": [
            "My suitcase weighs  60.15\n"
          ]
        }
      ],
      "source": [
        "print(f\"My suitcase weighs {weight: .2f}\")"
      ]
    },
    {
      "cell_type": "code",
      "execution_count": 98,
      "metadata": {
        "id": "i_yo-sXDV2z6",
        "outputId": "d64be1dc-5f55-4bb7-ccb7-5fab5bd64b3b",
        "colab": {
          "base_uri": "https://localhost:8080/"
        }
      },
      "outputs": [
        {
          "output_type": "stream",
          "name": "stdout",
          "text": [
            "suitcase weighs 60.15\n"
          ]
        }
      ],
      "source": [
        "print(\"suitcase weighs {:.2f}\".format(weight))"
      ]
    },
    {
      "cell_type": "code",
      "execution_count": 99,
      "metadata": {
        "id": "oX7UlxpGV2z6",
        "outputId": "d749d409-2be2-4d15-9537-6a651de5f28d",
        "colab": {
          "base_uri": "https://localhost:8080/"
        }
      },
      "outputs": [
        {
          "output_type": "stream",
          "name": "stdout",
          "text": [
            "z\n"
          ]
        }
      ],
      "source": [
        "easy_string = \"0zABc\"\n",
        "print(max(easy_string))"
      ]
    },
    {
      "cell_type": "code",
      "execution_count": 100,
      "metadata": {
        "id": "Zt_oC43QV2z7",
        "outputId": "5d09ba01-b697-4973-e846-2f4f20717292",
        "colab": {
          "base_uri": "https://localhost:8080/",
          "height": 36
        }
      },
      "outputs": [
        {
          "output_type": "execute_result",
          "data": {
            "text/plain": [
              "'0ZABC'"
            ],
            "application/vnd.google.colaboratory.intrinsic+json": {
              "type": "string"
            }
          },
          "metadata": {},
          "execution_count": 100
        }
      ],
      "source": [
        "easy_string.upper()"
      ]
    },
    {
      "cell_type": "code",
      "execution_count": 101,
      "metadata": {
        "id": "SqlP0_UHV2z8"
      },
      "outputs": [],
      "source": [
        "import math"
      ]
    },
    {
      "cell_type": "code",
      "execution_count": 102,
      "metadata": {
        "id": "jcHxD7JvV2z8",
        "outputId": "3b86efb6-fb8d-4f42-ddca-35788013cd1a",
        "colab": {
          "base_uri": "https://localhost:8080/"
        }
      },
      "outputs": [
        {
          "output_type": "execute_result",
          "data": {
            "text/plain": [
              "40320"
            ]
          },
          "metadata": {},
          "execution_count": 102
        }
      ],
      "source": [
        "math.factorial(8)"
      ]
    },
    {
      "cell_type": "markdown",
      "metadata": {
        "id": "uv3TEASJV2z9"
      },
      "source": [
        "QUESTION\n",
        "\n",
        "Predict what each print statement below will do.\n",
        "\n",
        "\n",
        "easy_string = \"abcABC\"\n",
        "\n",
        "print(max(easy_string))\n",
        "\n",
        "rich = \"gold1\"\n",
        "\n",
        "poor = \"tin2\"\n",
        "\n",
        "print(max(rich, poor))\n",
        "\n",
        "print(max(len(rich), len(poor)))"
      ]
    },
    {
      "cell_type": "markdown",
      "metadata": {
        "id": "KcWW0luZV2z9"
      },
      "source": [
        "<a id='cs'></a>\n",
        "# Control statements"
      ]
    },
    {
      "cell_type": "markdown",
      "metadata": {
        "id": "zoNW928zV2z9"
      },
      "source": [
        "# if-else -- indentation"
      ]
    },
    {
      "cell_type": "code",
      "execution_count": 103,
      "metadata": {
        "id": "CWMMSc9eV2z9",
        "outputId": "25c071db-6aa1-44f5-fe73-2df724d2de22",
        "colab": {
          "base_uri": "https://localhost:8080/"
        }
      },
      "outputs": [
        {
          "output_type": "stream",
          "name": "stdout",
          "text": [
            "The integer 1 is equal to the integer 1.\n",
            "Is the next indented line run, too?\n"
          ]
        }
      ],
      "source": [
        "if 1 == 1:\n",
        "    print('The integer 1 is equal to the integer 1.')\n",
        "    print('Is the next indented line run, too?')"
      ]
    },
    {
      "cell_type": "code",
      "execution_count": 104,
      "metadata": {
        "id": "D8Mtvvn6V2z-",
        "outputId": "a22237e5-6cb1-48de-d01d-343da5cfe968",
        "colab": {
          "base_uri": "https://localhost:8080/"
        }
      },
      "outputs": [
        {
          "output_type": "stream",
          "name": "stdout",
          "text": [
            "---\n",
            "These two lines are not indented, so they are always run next.\n"
          ]
        }
      ],
      "source": [
        "if 'one' == 'two':\n",
        "    print(\"The string 'one' is equal to the string 'two'.\")\n",
        "\n",
        "print('---')\n",
        "print('These two lines are not indented, so they are always run next.')"
      ]
    },
    {
      "cell_type": "code",
      "execution_count": 105,
      "metadata": {
        "id": "4zG6m5v3V2z-",
        "outputId": "367ad5f0-57e5-4446-dc11-90b21c8d8083",
        "colab": {
          "base_uri": "https://localhost:8080/"
        }
      },
      "outputs": [
        {
          "output_type": "stream",
          "name": "stdout",
          "text": [
            "50 >= 30.\n",
            "The else code block wdas run instead of the first block.\n",
            "---\n",
            "These two lines are not indented, so they are always run next.\n"
          ]
        }
      ],
      "source": [
        "if 50 < 30:\n",
        "    print(\"50 < 30.\")\n",
        "else:\n",
        "    print(\"50 >= 30.\")\n",
        "    print(\"The else code block wdas run instead of the first block.\")\n",
        "\n",
        "print('---')\n",
        "print('These two lines are not indented, so they are always run next.')"
      ]
    },
    {
      "cell_type": "code",
      "execution_count": 106,
      "metadata": {
        "id": "l9hO1MORV2z-",
        "outputId": "7e6f815b-d7cf-4908-9de2-f3e30b8f3b4d",
        "colab": {
          "base_uri": "https://localhost:8080/"
        }
      },
      "outputs": [
        {
          "output_type": "stream",
          "name": "stdout",
          "text": [
            "Your health is average.\n",
            "Exercise and eat healthily!\n",
            "---\n",
            "These two lines are not indented, so they are always run next.\n"
          ]
        }
      ],
      "source": [
        "health = 55\n",
        "\n",
        "if health > 70:\n",
        "    print('You are in great health!')\n",
        "elif health > 40:\n",
        "    print('Your health is average.')\n",
        "    print('Exercise and eat healthily!')\n",
        "else:\n",
        "    print('Your health is low.')\n",
        "    print('Please see a doctor now.')\n",
        "\n",
        "print('---')\n",
        "print('These two lines are not indented, so they are always run next.')"
      ]
    },
    {
      "cell_type": "code",
      "execution_count": 107,
      "metadata": {
        "id": "bqbNKrNKV2z_",
        "outputId": "53c6f1c5-a6b4-49d3-e5f9-136beeb497f8",
        "colab": {
          "base_uri": "https://localhost:8080/"
        }
      },
      "outputs": [
        {
          "output_type": "stream",
          "name": "stdout",
          "text": [
            "You watch the bachelor?yes\n",
            "bachelor watcher\n"
          ]
        }
      ],
      "source": [
        "bachelor = input(\"You watch the bachelor?\")\n",
        "if bachelor == 'yes' or bachelor == 'Yes':\n",
        "    print('bachelor watcher')\n",
        "else:\n",
        "    print('possible bachelor watcher')"
      ]
    },
    {
      "cell_type": "markdown",
      "metadata": {
        "id": "a9PIg0_AV2z_"
      },
      "source": [
        "# question on if"
      ]
    },
    {
      "cell_type": "markdown",
      "metadata": {
        "id": "oH6AZLIHV20A"
      },
      "source": [
        "1. Write an if… else statement to check whether or not the suitcase weighs more than 50 pounds by reading a weight from keyboard\n",
        "\n",
        "\n",
        "2. Write an if… else statement for multiple conditions.\n",
        "\n",
        "Print out these recommendations based on the weather conditions: by reading the temparature and rain as:\n",
        "\n",
        "temperature = float(eval(input('What is the temperature? ')))\n",
        "\n",
        "\n",
        "weather = input('What is the weather (rain or shine)? ')\n",
        "\n",
        "\n",
        "1) The temperature is higher than 60 degrees and it is raining: Bring an umbrella.\n",
        "\n",
        "2) The temperature is lower than or equal to 60 degrees and it is raining: Bring an umbrella and a jacket.\n",
        "\n",
        "3) The temperature is higher than 60 degrees and the sun is shining: Wear a T-shirt.\n",
        "\n",
        "4) The temperature is lower than or equal to 60 degrees and the sun is shining: Bring a jacket."
      ]
    },
    {
      "cell_type": "code",
      "execution_count": 108,
      "metadata": {
        "id": "JiocE7xUV20A",
        "outputId": "994e28ea-a75d-40e7-86b3-79dde77945ed",
        "colab": {
          "base_uri": "https://localhost:8080/"
        }
      },
      "outputs": [
        {
          "output_type": "stream",
          "name": "stdout",
          "text": [
            "124\n"
          ]
        }
      ],
      "source": [
        "x,y=50,30\n",
        "print( (x ^ y) + ( x & y) << 1 )"
      ]
    },
    {
      "cell_type": "code",
      "execution_count": 109,
      "metadata": {
        "id": "sxewRDvdV20B",
        "outputId": "07e711aa-3b0a-4974-a527-2e2bc6e83d88",
        "colab": {
          "base_uri": "https://localhost:8080/"
        }
      },
      "outputs": [
        {
          "output_type": "stream",
          "name": "stdout",
          "text": [
            "17\n"
          ]
        }
      ],
      "source": [
        "a=[9,3,5]\n",
        "print(sum(a))"
      ]
    },
    {
      "cell_type": "markdown",
      "metadata": {
        "id": "Sc-0RD0aV20B"
      },
      "source": [
        "<a id='fl'></a>\n",
        "# For loop"
      ]
    },
    {
      "cell_type": "markdown",
      "metadata": {
        "id": "FILqaHKrV20C"
      },
      "source": [
        "The range function\n",
        "range(n) creates an iterable of numbers 0, 1, 2, ..., n-1."
      ]
    },
    {
      "cell_type": "code",
      "execution_count": 110,
      "metadata": {
        "id": "k-uzC6KMV20C",
        "outputId": "a6d396e0-666c-4b06-cf43-ea99865c40e9",
        "colab": {
          "base_uri": "https://localhost:8080/"
        }
      },
      "outputs": [
        {
          "output_type": "stream",
          "name": "stdout",
          "text": [
            "1\n",
            "3\n",
            "5\n",
            "7\n",
            "9\n"
          ]
        }
      ],
      "source": [
        "for num in range(1,10,2):\n",
        "    print(num)"
      ]
    },
    {
      "cell_type": "code",
      "execution_count": 111,
      "metadata": {
        "id": "tPUpj1DOV20C",
        "outputId": "a0cb8610-e545-4309-9e78-3341d715208d",
        "colab": {
          "base_uri": "https://localhost:8080/"
        }
      },
      "outputs": [
        {
          "output_type": "stream",
          "name": "stdout",
          "text": [
            "10\n"
          ]
        }
      ],
      "source": [
        "total = 0\n",
        "for number in range(5):\n",
        "    total = total + number\n",
        "print(total)"
      ]
    },
    {
      "cell_type": "markdown",
      "metadata": {
        "id": "MkBYMYPMV20D"
      },
      "source": [
        "# Problems on for\n",
        "\n",
        "Fill in the blanks to produce correct results:\n",
        "\n",
        "1. Total length of the strings in the list: [\"red\", \"green\", \"blue\"] => 12\n",
        "\n",
        "total = 0\n",
        "\n",
        "for word in [\"red\", \"green\", \"blue\"]:\n",
        "\n",
        "    ____ = ____ + len(word)\n",
        "    \n",
        "print(total)\n",
        "\n",
        "\n",
        "\n",
        "2. List of word lengths: [\"red\", \"green\", \"blue\"] => [3, 5, 4]\n",
        "\n",
        "\n",
        "lengths = ____\n",
        "\n",
        "for word in [\"red\", \"green\", \"blue\"]:\n",
        "\n",
        "    lengths.____(____)\n",
        "    \n",
        "print(lengths)"
      ]
    },
    {
      "cell_type": "markdown",
      "metadata": {
        "id": "18aW3SXPV20D"
      },
      "source": [
        "# another set of problems on for\n",
        "\n",
        "1. Write a for loop that iterates from number 1 to number 15.\n",
        "\n",
        "    On each iteration, print out the number.\n",
        "\n",
        "2. Iterate from 1 to 30 using the following instructions:\n",
        "\n",
        "    1) If a number is divisible by 3, print \"fizz.\"\n",
        "    \n",
        "    2) If a number is divisible by 5, print \"buzz.\"\n",
        "    \n",
        "    3) If a number is both divisible by 3 and by 5, print \"fizzbuzz.\"\n",
        "    \n",
        "    4) Otherwise, print just the number."
      ]
    },
    {
      "cell_type": "markdown",
      "metadata": {
        "id": "NxKVglgHV20D"
      },
      "source": [
        "# While Loop"
      ]
    },
    {
      "cell_type": "code",
      "execution_count": 113,
      "metadata": {
        "id": "G-VN_4VhV20D",
        "outputId": "4fd3ee33-b404-4d50-c9ee-ab135d77737e",
        "colab": {
          "base_uri": "https://localhost:8080/"
        }
      },
      "outputs": [
        {
          "output_type": "stream",
          "name": "stdout",
          "text": [
            "0\n",
            "1\n",
            "2\n",
            "3\n",
            "4\n",
            "5\n",
            "6\n",
            "7\n",
            "8\n"
          ]
        }
      ],
      "source": [
        "x = 0\n",
        "while x < 9:\n",
        "    print(x)\n",
        "    x = x+1"
      ]
    },
    {
      "cell_type": "markdown",
      "metadata": {
        "id": "35rB93VmV20D"
      },
      "source": [
        "<a id='lists'></a>\n",
        "# Collections\n",
        "\n",
        "\n",
        "    Lists: [1, 2, 'steve', False]\n",
        "    Tuples: (1, 2, 'steve', False)"
      ]
    },
    {
      "cell_type": "code",
      "execution_count": 114,
      "metadata": {
        "id": "3Z9NTFKbV20E"
      },
      "outputs": [],
      "source": [
        "songs = ['Survival','Nonstop','Elevate','Emotionless',\"God's Plan\",\n",
        "\"I'm Upset\",'8 Out Of 10','Mob Ties']"
      ]
    },
    {
      "cell_type": "code",
      "execution_count": 115,
      "metadata": {
        "id": "ajK6IBjdV20E",
        "outputId": "1f347039-633e-4df9-f5ae-f1c0adb2686a",
        "colab": {
          "base_uri": "https://localhost:8080/"
        }
      },
      "outputs": [
        {
          "output_type": "execute_result",
          "data": {
            "text/plain": [
              "list"
            ]
          },
          "metadata": {},
          "execution_count": 115
        }
      ],
      "source": [
        "type(songs)"
      ]
    },
    {
      "cell_type": "code",
      "execution_count": 116,
      "metadata": {
        "id": "CnmW27VPV20E",
        "outputId": "5b2b7553-8f78-46fc-e47c-39e2c1a35366",
        "colab": {
          "base_uri": "https://localhost:8080/",
          "height": 36
        }
      },
      "outputs": [
        {
          "output_type": "execute_result",
          "data": {
            "text/plain": [
              "'Survival'"
            ],
            "application/vnd.google.colaboratory.intrinsic+json": {
              "type": "string"
            }
          },
          "metadata": {},
          "execution_count": 116
        }
      ],
      "source": [
        "songs[0]"
      ]
    },
    {
      "cell_type": "code",
      "execution_count": 117,
      "metadata": {
        "id": "CGzwfstfV20E",
        "outputId": "e0632a36-002b-4053-9f66-9b5cbfa7c388",
        "colab": {
          "base_uri": "https://localhost:8080/"
        }
      },
      "outputs": [
        {
          "output_type": "stream",
          "name": "stdout",
          "text": [
            "8\n"
          ]
        }
      ],
      "source": [
        "print(len(songs))"
      ]
    },
    {
      "cell_type": "code",
      "execution_count": 118,
      "metadata": {
        "id": "NrPfi7t-V20F"
      },
      "outputs": [],
      "source": [
        "songs[3] = 'In my feelings'"
      ]
    },
    {
      "cell_type": "code",
      "execution_count": 119,
      "metadata": {
        "id": "i6F9xu77V20F",
        "outputId": "c4cc61af-5dc6-4552-b059-2787f4a7b762",
        "colab": {
          "base_uri": "https://localhost:8080/"
        }
      },
      "outputs": [
        {
          "output_type": "stream",
          "name": "stdout",
          "text": [
            "8\n"
          ]
        }
      ],
      "source": [
        "print(len(songs))"
      ]
    },
    {
      "cell_type": "code",
      "source": [
        "songs"
      ],
      "metadata": {
        "colab": {
          "base_uri": "https://localhost:8080/"
        },
        "id": "WaARW8bCRYD9",
        "outputId": "eb87bcba-51f8-464b-c200-9ea1e5ff3087"
      },
      "execution_count": 120,
      "outputs": [
        {
          "output_type": "execute_result",
          "data": {
            "text/plain": [
              "['Survival',\n",
              " 'Nonstop',\n",
              " 'Elevate',\n",
              " 'In my feelings',\n",
              " \"God's Plan\",\n",
              " \"I'm Upset\",\n",
              " '8 Out Of 10',\n",
              " 'Mob Ties']"
            ]
          },
          "metadata": {},
          "execution_count": 120
        }
      ]
    },
    {
      "cell_type": "code",
      "execution_count": 121,
      "metadata": {
        "id": "5LwZqW2DV20F",
        "outputId": "3f3aacff-0e4e-499a-dd50-08803735741d",
        "colab": {
          "base_uri": "https://localhost:8080/"
        }
      },
      "outputs": [
        {
          "output_type": "stream",
          "name": "stdout",
          "text": [
            "3rd Item in List is:  35\n",
            "2nd Last in List is:  789\n",
            "List from 2nd Item is:  [35, 46, 51, 62, 78, 89, 90, 456, 345, 789, 234]\n",
            "List from 2nd to 4th Item is:  [35, 46, 51]\n",
            "List odd Items is:  [11, 35, 51, 78, 90, 345, 234]\n",
            "List even Items is:  [23, 46, 62, 89, 456, 789]\n",
            "List reversed Items is:  [234, 789, 345, 456, 90, 89, 78, 62, 51, 46, 35, 23, 11]\n"
          ]
        }
      ],
      "source": [
        "list1 = [11,23,35,46,51,62,78, 89, 90,456, 345, 789, 234]\n",
        "print(\"3rd Item in List is: \", list1[2]) # Indexing\n",
        "print(\"2nd Last in List is: \", list1[-2]) # Indexing from Last\n",
        "print(\"List from 2nd Item is: \", list1[2:])\n",
        "print(\"List from 2nd to 4th Item is: \", list1[2:5])\n",
        "print(\"List odd Items is: \", list1[::2])\n",
        "print(\"List even Items is: \", list1[1::2])\n",
        "print(\"List reversed Items is: \", list1[-1::-1])"
      ]
    },
    {
      "cell_type": "code",
      "execution_count": 122,
      "metadata": {
        "id": "gMheoqr0V20G",
        "outputId": "a811a3ad-8afb-4e0f-f220-6f8e184274ef",
        "colab": {
          "base_uri": "https://localhost:8080/"
        }
      },
      "outputs": [
        {
          "output_type": "execute_result",
          "data": {
            "text/plain": [
              "['Survival',\n",
              " 'Nonstop',\n",
              " 'Elevate',\n",
              " 'In my feelings',\n",
              " \"God's Plan\",\n",
              " \"I'm Upset\",\n",
              " '8 Out Of 10',\n",
              " 'Mob Ties']"
            ]
          },
          "metadata": {},
          "execution_count": 122
        }
      ],
      "source": [
        "songs"
      ]
    },
    {
      "cell_type": "code",
      "execution_count": 123,
      "metadata": {
        "id": "v9USs4qcV20G"
      },
      "outputs": [],
      "source": [
        "songs.append('Jump Man')"
      ]
    },
    {
      "cell_type": "code",
      "execution_count": 124,
      "metadata": {
        "id": "6l7ZzwvVV20G",
        "outputId": "f73ea9fb-c479-4ab5-b3f6-9f8ee4b8fb88",
        "colab": {
          "base_uri": "https://localhost:8080/"
        }
      },
      "outputs": [
        {
          "output_type": "stream",
          "name": "stdout",
          "text": [
            "['Survival', 'Nonstop', 'Elevate', 'In my feelings', \"God's Plan\", \"I'm Upset\", '8 Out Of 10', 'Mob Ties', 'Jump Man']\n"
          ]
        }
      ],
      "source": [
        "print(songs)"
      ]
    },
    {
      "cell_type": "code",
      "execution_count": 125,
      "metadata": {
        "id": "8tpCk_5NV20H"
      },
      "outputs": [],
      "source": [
        "del songs[3]"
      ]
    },
    {
      "cell_type": "code",
      "execution_count": 126,
      "metadata": {
        "id": "8R3RtYCrV20H",
        "outputId": "a153b492-7ae0-41a5-ead7-0bcabd5d5e4c",
        "colab": {
          "base_uri": "https://localhost:8080/"
        }
      },
      "outputs": [
        {
          "output_type": "stream",
          "name": "stdout",
          "text": [
            "['Survival', 'Nonstop', 'Elevate', \"God's Plan\", \"I'm Upset\", '8 Out Of 10', 'Mob Ties', 'Jump Man']\n"
          ]
        }
      ],
      "source": [
        "print(songs)"
      ]
    },
    {
      "cell_type": "code",
      "execution_count": 127,
      "metadata": {
        "id": "aOlOVpHtV20H"
      },
      "outputs": [],
      "source": [
        "new_playlist = []"
      ]
    },
    {
      "cell_type": "code",
      "execution_count": 128,
      "metadata": {
        "id": "JngXhTZlV20H"
      },
      "outputs": [],
      "source": [
        "new_playlist.append('0 to 100')"
      ]
    },
    {
      "cell_type": "code",
      "execution_count": 129,
      "metadata": {
        "id": "lGBps6CPV20H",
        "outputId": "e5e33fa5-f983-4963-aec4-bcc7c15b46a5",
        "colab": {
          "base_uri": "https://localhost:8080/"
        }
      },
      "outputs": [
        {
          "output_type": "execute_result",
          "data": {
            "text/plain": [
              "['0 to 100']"
            ]
          },
          "metadata": {},
          "execution_count": 129
        }
      ],
      "source": [
        "new_playlist"
      ]
    },
    {
      "cell_type": "code",
      "execution_count": 130,
      "metadata": {
        "id": "VNIpFpNgV20I"
      },
      "outputs": [],
      "source": [
        "a = list()"
      ]
    },
    {
      "cell_type": "code",
      "execution_count": 131,
      "metadata": {
        "id": "RgKXJYPwV20I"
      },
      "outputs": [],
      "source": [
        "import random"
      ]
    },
    {
      "cell_type": "code",
      "execution_count": 132,
      "metadata": {
        "id": "mh-HszN2V20I"
      },
      "outputs": [],
      "source": [
        "a.append(random.randint(1,30))"
      ]
    },
    {
      "cell_type": "code",
      "execution_count": 133,
      "metadata": {
        "id": "FeZLvJqoV20I",
        "outputId": "75288a8f-7c2c-4be4-c672-23b213c33d15",
        "colab": {
          "base_uri": "https://localhost:8080/"
        }
      },
      "outputs": [
        {
          "output_type": "stream",
          "name": "stdout",
          "text": [
            "[17]\n"
          ]
        }
      ],
      "source": [
        "print(a)"
      ]
    },
    {
      "cell_type": "code",
      "execution_count": 134,
      "metadata": {
        "id": "zPvyOdjZV20J",
        "outputId": "0d6cc41d-7f3f-45fc-c484-8e3ca813c289",
        "colab": {
          "base_uri": "https://localhost:8080/"
        }
      },
      "outputs": [
        {
          "output_type": "stream",
          "name": "stdout",
          "text": [
            "[17]\n"
          ]
        }
      ],
      "source": [
        "print(a)"
      ]
    },
    {
      "cell_type": "code",
      "execution_count": 135,
      "metadata": {
        "id": "tAgofnU3V20J"
      },
      "outputs": [],
      "source": [
        "for i in range(0,10):\n",
        "    a.append(random.randint(1,200000))"
      ]
    },
    {
      "cell_type": "code",
      "execution_count": 136,
      "metadata": {
        "id": "DmexskfQV20J",
        "outputId": "be678275-2e7f-4230-92de-b56a86c191c9",
        "colab": {
          "base_uri": "https://localhost:8080/"
        }
      },
      "outputs": [
        {
          "output_type": "stream",
          "name": "stdout",
          "text": [
            "[17, 79479, 126624, 164107, 10368, 197943, 170253, 170267, 109928, 161558, 67765]\n"
          ]
        }
      ],
      "source": [
        "print(a)"
      ]
    },
    {
      "cell_type": "code",
      "execution_count": 137,
      "metadata": {
        "id": "Jjb3ps0HV20J",
        "outputId": "8e25b002-56b2-43d1-eb9b-88fdfd4795a5",
        "colab": {
          "base_uri": "https://localhost:8080/"
        }
      },
      "outputs": [
        {
          "output_type": "stream",
          "name": "stdout",
          "text": [
            "[17, 79479, 126624, 164107, 10368, 197943, 170253, 170267, 109928, 161558, 67765]\n"
          ]
        }
      ],
      "source": [
        "print(a)"
      ]
    },
    {
      "cell_type": "code",
      "execution_count": 139,
      "metadata": {
        "id": "0kKHE9-tV20K"
      },
      "outputs": [],
      "source": [
        "for i in range(0,5):\n",
        "    a.append(random.randint(1,20))"
      ]
    },
    {
      "cell_type": "code",
      "execution_count": 138,
      "metadata": {
        "scrolled": true,
        "id": "Q9zBTrEDV20K",
        "outputId": "07a2519a-cdb2-4f0f-db7f-cbdec35998bd",
        "colab": {
          "base_uri": "https://localhost:8080/"
        }
      },
      "outputs": [
        {
          "output_type": "stream",
          "name": "stdout",
          "text": [
            "[17, 79479, 126624, 164107, 10368, 197943, 170253, 170267, 109928, 161558, 67765]\n"
          ]
        }
      ],
      "source": [
        "print(a)"
      ]
    },
    {
      "cell_type": "code",
      "execution_count": 140,
      "metadata": {
        "id": "65cNIg29V20K",
        "outputId": "37dc46d9-2edf-4fd1-de68-8da595de3fde",
        "colab": {
          "base_uri": "https://localhost:8080/"
        }
      },
      "outputs": [
        {
          "output_type": "stream",
          "name": "stdout",
          "text": [
            "[26, 20, 14, 22, 11]\n"
          ]
        }
      ],
      "source": [
        "randomlist = []\n",
        "#random.seed(42)\n",
        "randomlist = random.sample(range(10,30),5)\n",
        "print(randomlist)"
      ]
    },
    {
      "cell_type": "code",
      "execution_count": 141,
      "metadata": {
        "id": "bBp_Bp5UV20K",
        "outputId": "a49147ed-bc3a-44ce-d54a-b7e26037e1cb",
        "colab": {
          "base_uri": "https://localhost:8080/"
        }
      },
      "outputs": [
        {
          "output_type": "stream",
          "name": "stdout",
          "text": [
            "['A', 'd', 'd']\n"
          ]
        }
      ],
      "source": [
        "# Create a new empty list:\n",
        "l = []\n",
        "\n",
        "# Add an element using append():\n",
        "l.append(\"A\")\n",
        "l.append(\"d\")\n",
        "l.append(\"d\")\n",
        "\n",
        "print(l)"
      ]
    },
    {
      "cell_type": "code",
      "execution_count": 142,
      "metadata": {
        "id": "a9WIEwNqV20L",
        "outputId": "0644489c-ed86-4072-eea4-3ad3fde80d9d",
        "colab": {
          "base_uri": "https://localhost:8080/"
        }
      },
      "outputs": [
        {
          "output_type": "stream",
          "name": "stdout",
          "text": [
            "['A', 'b', 'c']\n"
          ]
        }
      ],
      "source": [
        "# Reassign a range of values with another list:\n",
        "l[1:3] = [\"b\", \"c\"]\n",
        "print(l)"
      ]
    },
    {
      "cell_type": "code",
      "execution_count": 143,
      "metadata": {
        "id": "KCecNfR8V20L",
        "outputId": "fcf7dfde-d38b-464f-8267-e07cabfaf47c",
        "colab": {
          "base_uri": "https://localhost:8080/"
        }
      },
      "outputs": [
        {
          "output_type": "stream",
          "name": "stdout",
          "text": [
            "['i', 'n', 's', 'e', 'r', 't', 'A', 'b', 'c']\n"
          ]
        }
      ],
      "source": [
        "#Use the .insert() method to add values at specific indices.\n",
        "l.insert(0, \"i\")\n",
        "l.insert(1, \"n\")\n",
        "l.insert(2, \"s\")\n",
        "l.insert(3, \"e\")\n",
        "l.insert(4, \"r\")\n",
        "l.insert(5, \"t\")\n",
        "\n",
        "print(l)"
      ]
    },
    {
      "cell_type": "code",
      "execution_count": 144,
      "metadata": {
        "id": "eCphBFDaV20L",
        "outputId": "fd4aae28-8c21-4fb9-d512-18b5d71a99b1",
        "colab": {
          "base_uri": "https://localhost:8080/"
        }
      },
      "outputs": [
        {
          "output_type": "stream",
          "name": "stdout",
          "text": [
            "['i', 'n', 's', 'e', 'r', 't', 'b', 'c']\n"
          ]
        }
      ],
      "source": [
        "#The .remove() method can be used to remove specific values if they appear in a list.\n",
        "l.remove(\"A\")\n",
        "print(l)"
      ]
    },
    {
      "cell_type": "code",
      "execution_count": 145,
      "metadata": {
        "id": "9pRTVyhuV20M",
        "outputId": "59580384-d1a9-4f02-c528-054514c0b6b4",
        "colab": {
          "base_uri": "https://localhost:8080/"
        }
      },
      "outputs": [
        {
          "output_type": "stream",
          "name": "stdout",
          "text": [
            "['i', 'n', 's', 'e', 'r', 't']\n"
          ]
        }
      ],
      "source": [
        "#On the other hand, the del() function can be used with a list and index to delete values.\n",
        "del l[7]\n",
        "del l[6]\n",
        "\n",
        "print(l)"
      ]
    },
    {
      "cell_type": "code",
      "execution_count": 146,
      "metadata": {
        "id": "NIFjLVW2V20M",
        "outputId": "2293478e-65e7-4074-88db-9a36fa79ea17",
        "colab": {
          "base_uri": "https://localhost:8080/"
        }
      },
      "outputs": [
        {
          "output_type": "stream",
          "name": "stdout",
          "text": [
            "['10', '20', '23', '26', '27', '28', '32', '33', '38', '42', '44', '48', '54', '56', '65', '66', '66', '83', '87', '88', '94', '99']\n",
            "None\n",
            "['99', '94', '88', '87', '83', '66', '66', '65', '56', '54', '48', '44', '42', '38', '33', '32', '28', '27', '26', '23', '20', '10']\n",
            "WEDNESDAY THURSDAY\n",
            "THURSDAY FRIDAY\n",
            "['WEDNESDAY', 'THURSDAY', 'FRIDAY']\n",
            "None\n",
            "['MONDAY', 'TUESDAY', 'WEDNESDAY', 'THURSDAY', 'FRIDAY', 'SATURDAY', 'SUNDAY']\n",
            "7\n",
            "['a', 'b', 'b', 'b', 'c', 'c', 'd', 'e']\n"
          ]
        },
        {
          "output_type": "execute_result",
          "data": {
            "text/plain": [
              "7"
            ]
          },
          "metadata": {},
          "execution_count": 146
        }
      ],
      "source": [
        "Ages = [ '20', '26', '56', '54', '32', '28','23','99', '87', '10', '65', '88', '66',\n",
        "                  '48', '42', '27','33','38','83','94','66','44']\n",
        "print(sorted(Ages, reverse=False))\n",
        "print(Ages.sort())\n",
        "print(sorted(Ages, reverse=True))\n",
        "\n",
        "D = ['MONDAY', 'TUESDAY','WEDNESDAY','THURSDAY','FRIDAY','SATURDAY','SUNDAY']\n",
        "print(D[-5], D[-4])\n",
        "print(D[3], D[4])\n",
        "print(D[2:5])\n",
        "\n",
        "#print(reverse(D))\n",
        "print(D.reverse())\n",
        "print(list(reversed(D)))\n",
        "\n",
        "Mylist =['a','a','b','b','b','c','c','d','e']\n",
        "print(Mylist.index('d'))\n",
        "Mylist.pop(0)\n",
        "print(Mylist)\n",
        "\n",
        "N = [24, 27, 29, 26, 25, 23, 20]\n",
        "len(N)"
      ]
    },
    {
      "cell_type": "markdown",
      "metadata": {
        "id": "VzDfS3xUV20N"
      },
      "source": [
        "# List Comprehension\n",
        " check this folder :E:\\Python for Data Science\\listcomprehension"
      ]
    },
    {
      "cell_type": "code",
      "execution_count": 147,
      "metadata": {
        "id": "kegXtnlMV20N",
        "outputId": "7587086d-cd5e-4dd4-ae60-27b6806331b3",
        "colab": {
          "base_uri": "https://localhost:8080/"
        }
      },
      "outputs": [
        {
          "output_type": "stream",
          "name": "stdout",
          "text": [
            "[49, 39, 18, 2, 11, 32, 42, 12, 36, 7]\n"
          ]
        }
      ],
      "source": [
        "res = [random.randrange(1, 50, 1) for i in range(10)]\n",
        "print(res)"
      ]
    },
    {
      "cell_type": "code",
      "execution_count": 148,
      "metadata": {
        "id": "jKCfqjBnV20N",
        "outputId": "a70f2740-ac81-4d33-a2ea-bd655255df15",
        "colab": {
          "base_uri": "https://localhost:8080/"
        }
      },
      "outputs": [
        {
          "output_type": "stream",
          "name": "stdout",
          "text": [
            "2\n",
            "4\n",
            "6\n"
          ]
        }
      ],
      "source": [
        "for number in [2, 4, 6]:\n",
        "    print(number)"
      ]
    },
    {
      "cell_type": "code",
      "execution_count": 149,
      "metadata": {
        "id": "g5_D8Xm1V20N",
        "colab": {
          "base_uri": "https://localhost:8080/"
        },
        "outputId": "a6a61da9-d6e5-41b9-d4a4-f0f500704de2"
      },
      "outputs": [
        {
          "output_type": "stream",
          "name": "stdout",
          "text": [
            "3\n",
            "5\n",
            "6\n"
          ]
        }
      ],
      "source": [
        "for bachelor in [3, 5, 6]:\n",
        "    print(bachelor)"
      ]
    },
    {
      "cell_type": "code",
      "execution_count": 150,
      "metadata": {
        "id": "SBFooQ2gV20N",
        "outputId": "c57865dd-b28a-4690-e5bb-63ad82854a89",
        "colab": {
          "base_uri": "https://localhost:8080/"
        }
      },
      "outputs": [
        {
          "output_type": "stream",
          "name": "stdout",
          "text": [
            "[11, 12, 13, 14, 15]\n",
            "[21, 22, 23, 24, 25]\n",
            "[1331, 1728, 2197, 2744, 3375]\n",
            "[51.8, 53.6, 55.400000000000006, 57.2, 59.0]\n",
            "[12, 14]\n"
          ]
        }
      ],
      "source": [
        "#n=[x*x for x in range(4)]\n",
        "#print(n)\n",
        "#\n",
        "#list = [2,4,6,8]\n",
        "#a= (x**3 for x in list)\n",
        "#print(next(a))\n",
        "#print(a)\n",
        "#List Comprehension\n",
        "\n",
        "l1 = [1,2,3,4,5]\n",
        "\n",
        "for i in range(0,len(l1)):\n",
        "    l1[i] = l1[i]+10\n",
        "print(l1)\n",
        "\n",
        "l2 = [x+10 for x in l1]\n",
        "print(l2)\n",
        "\n",
        "l3 = [x**3 for x in l1]\n",
        "print(l3)\n",
        "\n",
        "fahrenheit = [((float(9)/5)*x+32) for x in l1]\n",
        "print(fahrenheit)\n",
        "\n",
        "e = [x for x in l1 if x%2==0]\n",
        "print(e)\n"
      ]
    },
    {
      "cell_type": "markdown",
      "metadata": {
        "id": "v1gBMhwXV20O"
      },
      "source": [
        "<a id='tup'></a>\n",
        "# Tuples"
      ]
    },
    {
      "cell_type": "code",
      "execution_count": 151,
      "metadata": {
        "id": "j234evyQV20O",
        "outputId": "72c3dc76-73aa-4cca-a710-4b286ef11feb",
        "colab": {
          "base_uri": "https://localhost:8080/"
        }
      },
      "outputs": [
        {
          "output_type": "stream",
          "name": "stdout",
          "text": [
            "3rd Item in tuple is:  3\n",
            "Tuple from 2nd Item is:  (3, 4, 5, 6)\n",
            "Tuple from 2nd to 4th Item is:  (3, 4, 5)\n",
            "Tuple odd Items is:  (1, 3, 5)\n",
            "Tuple even Items is:  (2, 4, 6)\n",
            "Tuple reversed Items is:  (6, 5, 4, 3, 2, 1)\n"
          ]
        }
      ],
      "source": [
        "tuple1 = (1,2,3,4,5,6)\n",
        "print(\"3rd Item in tuple is: \", tuple1[2]) # Indexed Item\n",
        "print(\"Tuple from 2nd Item is: \", tuple1[2:])\n",
        "print(\"Tuple from 2nd to 4th Item is: \", tuple1[2:5])\n",
        "print(\"Tuple odd Items is: \", tuple1[::2])\n",
        "print(\"Tuple even Items is: \", tuple1[1::2])\n",
        "print(\"Tuple reversed Items is: \", tuple1[-1::-1])"
      ]
    },
    {
      "cell_type": "code",
      "execution_count": 152,
      "metadata": {
        "id": "zVtvwSRzV20O"
      },
      "outputs": [],
      "source": [
        "\n",
        "song_tuple = ('Survival','Nonstop','Elevate','Emotionless',\"God's Plan\"\n",
        "\"I'm Upset\",'8 Out Of 10','Mob Ties')"
      ]
    },
    {
      "cell_type": "code",
      "execution_count": 153,
      "metadata": {
        "id": "eRU0TqiXV20O",
        "outputId": "cb3ff2d4-7b3f-4265-b1d4-98924c393fc9",
        "colab": {
          "base_uri": "https://localhost:8080/",
          "height": 36
        }
      },
      "outputs": [
        {
          "output_type": "execute_result",
          "data": {
            "text/plain": [
              "'Emotionless'"
            ],
            "application/vnd.google.colaboratory.intrinsic+json": {
              "type": "string"
            }
          },
          "metadata": {},
          "execution_count": 153
        }
      ],
      "source": [
        "song_tuple[3]"
      ]
    },
    {
      "cell_type": "code",
      "execution_count": 155,
      "metadata": {
        "id": "UDLI9VjhV20O",
        "outputId": "8e478db8-fd6c-4616-c976-57c462714c61",
        "colab": {
          "base_uri": "https://localhost:8080/"
        }
      },
      "outputs": [
        {
          "output_type": "stream",
          "name": "stdout",
          "text": [
            "('Survival', 'Nonstop', 'Elevate', 'In my feelings', \"God's PlanI'm Upset\", '8 Out Of 10', 'Mob Ties')\n"
          ]
        }
      ],
      "source": [
        "song_list = list(song_tuple)\n",
        "song_list[3] = 'In my feelings'\n",
        "song_tuple = tuple(song_list)\n",
        "print(song_tuple)"
      ]
    },
    {
      "cell_type": "code",
      "execution_count": 156,
      "metadata": {
        "id": "Rlq7w9-PV20P",
        "outputId": "35538cd1-28ad-4f7a-9758-bd80610477cb",
        "colab": {
          "base_uri": "https://localhost:8080/"
        }
      },
      "outputs": [
        {
          "output_type": "execute_result",
          "data": {
            "text/plain": [
              "tuple"
            ]
          },
          "metadata": {},
          "execution_count": 156
        }
      ],
      "source": [
        "type(song_tuple)"
      ]
    },
    {
      "cell_type": "code",
      "execution_count": 157,
      "metadata": {
        "id": "7RjRxFQIV20P"
      },
      "outputs": [],
      "source": [
        "song_list = list(song_tuple)"
      ]
    },
    {
      "cell_type": "code",
      "execution_count": 158,
      "metadata": {
        "id": "v9mA75LJV20P",
        "outputId": "248eb370-fc31-4e67-8226-baaf7862d4ab",
        "colab": {
          "base_uri": "https://localhost:8080/"
        }
      },
      "outputs": [
        {
          "output_type": "execute_result",
          "data": {
            "text/plain": [
              "list"
            ]
          },
          "metadata": {},
          "execution_count": 158
        }
      ],
      "source": [
        "type(song_list)"
      ]
    },
    {
      "cell_type": "code",
      "execution_count": 159,
      "metadata": {
        "id": "QP3za0HWV20P",
        "outputId": "021c582b-5070-4264-d650-711c4db4d994",
        "colab": {
          "base_uri": "https://localhost:8080/"
        }
      },
      "outputs": [
        {
          "output_type": "stream",
          "name": "stdout",
          "text": [
            "['Survival', 'Nonstop', 'Elevate', 'In my feelings', \"God's PlanI'm Upset\", '8 Out Of 10', 'Mob Ties']\n"
          ]
        }
      ],
      "source": [
        "print(song_list)"
      ]
    },
    {
      "cell_type": "code",
      "execution_count": 160,
      "metadata": {
        "id": "0eBokWVUV20Q",
        "outputId": "47927908-88ed-428f-8e9b-ed25f3cfafd5",
        "colab": {
          "base_uri": "https://localhost:8080/"
        }
      },
      "outputs": [
        {
          "output_type": "execute_result",
          "data": {
            "text/plain": [
              "('Survival',\n",
              " 'Nonstop',\n",
              " 'Elevate',\n",
              " 'In my feelings',\n",
              " \"God's PlanI'm Upset\",\n",
              " '8 Out Of 10',\n",
              " 'Mob Ties')"
            ]
          },
          "metadata": {},
          "execution_count": 160
        }
      ],
      "source": [
        "tuple(song_list)"
      ]
    },
    {
      "cell_type": "code",
      "execution_count": 161,
      "metadata": {
        "id": "ZhwqWFPPV20Q",
        "outputId": "412f1672-b8ea-4ed0-bb04-74b6242b8cbc",
        "colab": {
          "base_uri": "https://localhost:8080/"
        }
      },
      "outputs": [
        {
          "output_type": "stream",
          "name": "stdout",
          "text": [
            "(10, 20)\n",
            "<class 'tuple'>\n"
          ]
        }
      ],
      "source": [
        "point = (10, 20)\n",
        "print(point)\n",
        "print(type(point))"
      ]
    },
    {
      "cell_type": "code",
      "execution_count": 162,
      "metadata": {
        "id": "2xaex8h5V20Q",
        "outputId": "d1ba2ab9-803e-4c92-e3e4-9163b7a67732",
        "colab": {
          "base_uri": "https://localhost:8080/"
        }
      },
      "outputs": [
        {
          "output_type": "execute_result",
          "data": {
            "text/plain": [
              "10"
            ]
          },
          "metadata": {},
          "execution_count": 162
        }
      ],
      "source": [
        "# They can be sliced just like lists and strings:\n",
        "point[0]"
      ]
    },
    {
      "cell_type": "code",
      "execution_count": 163,
      "metadata": {
        "id": "mHxj6rQZV20Q",
        "outputId": "fad1e790-2d4f-44f1-a228-63176c4ec1a5",
        "colab": {
          "base_uri": "https://localhost:8080/"
        }
      },
      "outputs": [
        {
          "output_type": "stream",
          "name": "stdout",
          "text": [
            "x = 10\n",
            "y = 20\n"
          ]
        }
      ],
      "source": [
        "#Unpacking a variable is a common practice when iterating through Python data types.\n",
        "#Unpacking essentially allows us to simultaneously set new variables to items in a list, tuple, or dictionary.\n",
        "\n",
        "# Unpacking:\n",
        "x, y = point\n",
        "\n",
        "print(\"x = {}\".format(x))\n",
        "print(\"y = {}\".format(y))"
      ]
    },
    {
      "cell_type": "markdown",
      "metadata": {
        "id": "6VRrWHQFV20R"
      },
      "source": [
        "<a id='fun'></a>\n",
        "# Functions"
      ]
    },
    {
      "cell_type": "code",
      "execution_count": 164,
      "metadata": {
        "id": "vlI2Ab7wV20S"
      },
      "outputs": [],
      "source": [
        "def hi():\n",
        "    print('Hello World!')"
      ]
    },
    {
      "cell_type": "code",
      "execution_count": 165,
      "metadata": {
        "id": "7xKI2jLpV20S",
        "outputId": "d298afc6-5c2c-4152-f29c-56c65934b563",
        "colab": {
          "base_uri": "https://localhost:8080/"
        }
      },
      "outputs": [
        {
          "output_type": "stream",
          "name": "stdout",
          "text": [
            "Hello World!\n"
          ]
        }
      ],
      "source": [
        "hi()"
      ]
    },
    {
      "cell_type": "code",
      "execution_count": 166,
      "metadata": {
        "id": "7qDiuADcV20T"
      },
      "outputs": [],
      "source": [
        "def birth_date(month, day, year=2020):\n",
        "    bday = str(month) + '/' + str(day) + '/' + str(year)\n",
        "    print(bday)"
      ]
    },
    {
      "cell_type": "code",
      "execution_count": 168,
      "metadata": {
        "id": "tU8ieVTEV20T",
        "outputId": "4711b0fd-7e88-459c-e9c6-94b99562410f",
        "colab": {
          "base_uri": "https://localhost:8080/"
        }
      },
      "outputs": [
        {
          "output_type": "stream",
          "name": "stdout",
          "text": [
            "5/5/1979\n"
          ]
        }
      ],
      "source": [
        "birth_date(day = 5,month=5, year = 1979)"
      ]
    },
    {
      "cell_type": "code",
      "execution_count": 169,
      "metadata": {
        "id": "XT3u94J5V20T",
        "outputId": "3fee93a1-b9c7-4776-ce16-3e1f567d679e",
        "colab": {
          "base_uri": "https://localhost:8080/"
        }
      },
      "outputs": [
        {
          "output_type": "stream",
          "name": "stdout",
          "text": [
            "5/11/2020\n"
          ]
        }
      ],
      "source": [
        "birth_date(5, 11)"
      ]
    },
    {
      "cell_type": "code",
      "execution_count": 170,
      "metadata": {
        "id": "CzCthye8V20U",
        "outputId": "caaf4aa8-989f-4fa8-ecba-9f2ef5460b4c",
        "colab": {
          "base_uri": "https://localhost:8080/"
        }
      },
      "outputs": [
        {
          "output_type": "stream",
          "name": "stdout",
          "text": [
            "Sum is  8\n"
          ]
        }
      ],
      "source": [
        "def add(x,y):\n",
        "    return x+y\n",
        "print(\"Sum is \",add(3,5))\n",
        "\n"
      ]
    },
    {
      "cell_type": "code",
      "execution_count": 171,
      "metadata": {
        "id": "ryvCF385V20U",
        "outputId": "441f94f9-8bae-426a-bfd6-a1a581b2f74a",
        "colab": {
          "base_uri": "https://localhost:8080/"
        }
      },
      "outputs": [
        {
          "output_type": "stream",
          "name": "stdout",
          "text": [
            "Factorial of the number is: 720\n"
          ]
        }
      ],
      "source": [
        "def fact(n):\n",
        "    f=1\n",
        "    for i in range(1,n+1):\n",
        "        f=f*i\n",
        "    return f\n",
        "\n",
        "print(\"Factorial of the number is:\",fact(6))\n",
        "\n"
      ]
    },
    {
      "cell_type": "code",
      "execution_count": 172,
      "metadata": {
        "id": "wY6XaFmcV20U",
        "outputId": "482ce31d-3247-40e2-ceed-43b25d300e6c",
        "colab": {
          "base_uri": "https://localhost:8080/"
        }
      },
      "outputs": [
        {
          "output_type": "execute_result",
          "data": {
            "text/plain": [
              "['f', 't', 'h', 'm']"
            ]
          },
          "metadata": {},
          "execution_count": 172
        }
      ],
      "source": [
        "#find mistake\n",
        "word=['f','a','t','h','i','m','a']\n",
        "def count_vow(word):\n",
        "    for i in word:\n",
        "        if(i=='a'or i=='e'or i=='i'or i=='o'or i=='u'):\n",
        "            word.remove(i)\n",
        "    return word\n",
        "count_vow(word)"
      ]
    },
    {
      "cell_type": "code",
      "execution_count": 173,
      "metadata": {
        "id": "l971ffduV20U"
      },
      "outputs": [],
      "source": [
        "test_list = [8, 1, -4, 8, -1]"
      ]
    },
    {
      "cell_type": "code",
      "execution_count": 174,
      "metadata": {
        "id": "I-Ml9AyRV20V"
      },
      "outputs": [],
      "source": [
        "def first_negative(list_of_numbers):\n",
        "    '''\n",
        "    This function takes in a list and\n",
        "    returns the first negative number in\n",
        "    list.\n",
        "\n",
        "    Arguments\n",
        "    ---------\n",
        "    list_of_numbers: list type\n",
        "\n",
        "    Returns\n",
        "    -------\n",
        "    int type, smallest value in list\n",
        "    '''\n",
        "    #loop over the list of numbers\n",
        "    for num in list_of_numbers:\n",
        "        if num < 0: #check if number is negative\n",
        "            print(num) #print the number\n",
        "            return num  #return the number"
      ]
    },
    {
      "cell_type": "code",
      "execution_count": 175,
      "metadata": {
        "id": "8F-Y_vB2V20V",
        "outputId": "a89b7b33-2afa-4713-d370-f7fc8626b830",
        "colab": {
          "base_uri": "https://localhost:8080/"
        }
      },
      "outputs": [
        {
          "output_type": "stream",
          "name": "stdout",
          "text": [
            "-4\n"
          ]
        },
        {
          "output_type": "execute_result",
          "data": {
            "text/plain": [
              "-4"
            ]
          },
          "metadata": {},
          "execution_count": 175
        }
      ],
      "source": [
        "first_negative(test_list)"
      ]
    },
    {
      "cell_type": "code",
      "execution_count": 176,
      "metadata": {
        "id": "GtSV4YCRV20V"
      },
      "outputs": [],
      "source": [
        "sentence = \"A MAN KNOCKED ON MY DOOR AND ASKED FOR A SMALL DONATION TOWARDS THE LOCAL SWIMMING POOL SO I GAVE HIM A GLASS OF WATER\""
      ]
    },
    {
      "cell_type": "code",
      "execution_count": 177,
      "metadata": {
        "id": "i7wUdpO2V20W"
      },
      "outputs": [],
      "source": [
        "def vowel_counter(word):\n",
        "    '''\n",
        "    This function takes in a word and\n",
        "    counts how many vowels\n",
        "    '''\n",
        "    count = 0\n",
        "    for letter in word:\n",
        "        if letter in 'aeiouAEIOU':\n",
        "#         if letter in ['a', 'e', 'i', 'o', 'u']:\n",
        "            count += 1\n",
        "    return count"
      ]
    },
    {
      "cell_type": "code",
      "execution_count": 178,
      "metadata": {
        "id": "jIrT9ySkV20W",
        "outputId": "2536b399-b55c-455c-fa31-91c617d830d1",
        "colab": {
          "base_uri": "https://localhost:8080/"
        }
      },
      "outputs": [
        {
          "output_type": "stream",
          "name": "stdout",
          "text": [
            "36\n"
          ]
        }
      ],
      "source": [
        "print(vowel_counter(sentence))"
      ]
    },
    {
      "cell_type": "markdown",
      "metadata": {
        "id": "65yQWEKAV20W"
      },
      "source": [
        "Code a function called \"add_three\"\n",
        "\n",
        "ACCEPT  three inputs, all numbers (floats or ints)\n",
        "\n",
        "RETURN the sum of the three numbers added together."
      ]
    },
    {
      "cell_type": "markdown",
      "metadata": {
        "id": "CZlLHkpJV20X"
      },
      "source": [
        "Build a function called 'cap_first'\n",
        "\n",
        "ACCEPT a non-empty string input.\n",
        "\n",
        "RETURN that same string, with first letter capitalized,and all subsequent letters in lower-case."
      ]
    },
    {
      "cell_type": "markdown",
      "metadata": {
        "id": "X-rdn_FQV20X"
      },
      "source": [
        "<a id='que'></a>\n",
        "# Questions on for the above concepts"
      ]
    },
    {
      "cell_type": "markdown",
      "metadata": {
        "id": "UhNB0DDEV20X"
      },
      "source": [
        "1. What are the types of the following variables?\n",
        "\n",
        "    a = 1\n",
        "\n",
        "    b = 2.6\n",
        "\n",
        "    c = [1,2,3,5,6]\n",
        "    \n",
        "    d = {'val': 'kilmer', 'reggie':'bush'}\n",
        "    \n",
        "    e = ('one', 'two', 'three')\n",
        "    \n",
        "    f = {1:{'key':'value'}, 2:{'key2':'value2'}}\n",
        "    \n",
        "    g = True\n",
        "    \n",
        "    h = False\n",
        "    \n",
        "    i = 'integer'"
      ]
    },
    {
      "cell_type": "markdown",
      "metadata": {
        "id": "bnRwgJ1vV20X"
      },
      "source": [
        "2. What is the difference between a \"mutable\" and \"immutable\" object?"
      ]
    },
    {
      "cell_type": "code",
      "execution_count": 179,
      "metadata": {
        "id": "8re1jGC_V20X"
      },
      "outputs": [],
      "source": [
        "court_shows = [\"America's Court with Judge Ross\",\n",
        "              \"The Blame Game\",\n",
        "              \"Couples Court with The Cutlers\",\n",
        "              \"Divorce Court\",\n",
        "              \"Guy Court\",\n",
        "              \"Hot Bench\",\n",
        "              \"Judge Wapner's Animal Court\"]"
      ]
    },
    {
      "cell_type": "markdown",
      "metadata": {
        "id": "OAm7EhT6V20Y"
      },
      "source": [
        "3. Print the court_show list"
      ]
    },
    {
      "cell_type": "markdown",
      "metadata": {
        "id": "fr7_ouOUV20Y"
      },
      "source": [
        "4. Print the names of the first and last shows in the list."
      ]
    },
    {
      "cell_type": "markdown",
      "metadata": {
        "id": "G-BI5IWZV20Y"
      },
      "source": [
        "5. Print the first five shows in the list."
      ]
    },
    {
      "cell_type": "markdown",
      "metadata": {
        "id": "syIKx2J9V20Y"
      },
      "source": [
        "6. Append an animal to the list of animals."
      ]
    },
    {
      "cell_type": "code",
      "execution_count": 180,
      "metadata": {
        "id": "ZHSwuK6yV20Y"
      },
      "outputs": [],
      "source": [
        "animals = ['duck', 'rat', 'boar', 'slug', 'mammoth', 'gazelle']"
      ]
    },
    {
      "cell_type": "markdown",
      "metadata": {
        "id": "-__udblRV20Y"
      },
      "source": [
        "7. Divide the length of the fifth animal by the second."
      ]
    },
    {
      "cell_type": "markdown",
      "metadata": {
        "id": "ViTCJX8wV20Y"
      },
      "source": [
        "8. Count the number of times 0 appears in the following list"
      ]
    },
    {
      "cell_type": "markdown",
      "metadata": {
        "id": "hNEvG8GHV20Z"
      },
      "source": [
        "binary = [0,1,1,0,1,0,1,1,1,1,0,0,1,0,0,1,0,1,1,0,0,1,1,0,1,1,0,0,0,1,1,1,0,1,0,1]"
      ]
    },
    {
      "cell_type": "markdown",
      "metadata": {
        "id": "kwYNYtqTV20Z"
      },
      "source": [
        "<a id='dict'></a>\n",
        "# Dictionaries\n",
        "Dictionaries are a non-ordered Python data type. Instead of using an ordered index to access data stored in a dictionary, we use a system of key-value pairs.\n",
        "\n",
        "A key is similar to a variable name.\n",
        "\n",
        "A value is similar to the value assigned to the variable.\n",
        "\n",
        "Curly braces ({ }) enclose dictionaries. Note: You can also use curly braces to construct a set. The first input in a dictionary pair is the \"key.\" The second input in a dictionary pair is the \"value.\" The general format looks like this:"
      ]
    },
    {
      "cell_type": "code",
      "execution_count": 181,
      "metadata": {
        "id": "QVmVwhF2V20Z",
        "outputId": "89cd3173-bd40-4eca-81c6-16a0b7cbbab8",
        "colab": {
          "base_uri": "https://localhost:8080/"
        }
      },
      "outputs": [
        {
          "output_type": "stream",
          "name": "stdout",
          "text": [
            "<class 'dict'>\n",
            "{'key1': 1.0, 'key2': 2.0, 'key3': 3.0}\n"
          ]
        }
      ],
      "source": [
        "params = {\"key1\" : 1.0,\n",
        "          \"key2\" : 2.0,\n",
        "          \"key3\" : 3.0,}\n",
        "\n",
        "print(type(params))\n",
        "print(params)"
      ]
    },
    {
      "cell_type": "code",
      "execution_count": 182,
      "metadata": {
        "id": "tfL7ZCZYV20Z",
        "outputId": "c9422a9d-0faa-4e7a-e677-07cb83d793c3",
        "colab": {
          "base_uri": "https://localhost:8080/"
        }
      },
      "outputs": [
        {
          "output_type": "execute_result",
          "data": {
            "text/plain": [
              "2.0"
            ]
          },
          "metadata": {},
          "execution_count": 182
        }
      ],
      "source": [
        "# Value for parameter2 in the params dictionary:\n",
        "params[\"key2\"]"
      ]
    },
    {
      "cell_type": "code",
      "execution_count": 183,
      "metadata": {
        "id": "snw2TNfxV20a"
      },
      "outputs": [],
      "source": [
        "# Adding a new dictionary entry:\n",
        "params[\"key4\"] = \"D\""
      ]
    },
    {
      "cell_type": "code",
      "execution_count": 184,
      "metadata": {
        "id": "DRKnmPBPV20a",
        "outputId": "0f93cd2f-9088-4d8c-f240-37334e21e0af",
        "colab": {
          "base_uri": "https://localhost:8080/"
        }
      },
      "outputs": [
        {
          "output_type": "stream",
          "name": "stdout",
          "text": [
            "{'key1': 1.0, 'key2': 2.0, 'key3': 3.0, 'key4': 'D'}\n"
          ]
        }
      ],
      "source": [
        "# Print the entirety of the dictionary:\n",
        "print(params)"
      ]
    },
    {
      "cell_type": "code",
      "execution_count": 185,
      "metadata": {
        "id": "Aprhayw_V20a"
      },
      "outputs": [],
      "source": [
        "# Reassigning the value of a key-value pair in the dictionary:\n",
        "params[\"key1\"] = \"A\"\n",
        "params[\"key2\"] = \"B\""
      ]
    },
    {
      "cell_type": "code",
      "execution_count": 186,
      "metadata": {
        "id": "XGqyJiUdV20a",
        "outputId": "2e68af87-5d59-4836-c11a-a8554e31b059",
        "colab": {
          "base_uri": "https://localhost:8080/"
        }
      },
      "outputs": [
        {
          "output_type": "stream",
          "name": "stdout",
          "text": [
            "{'key1': 'A', 'key2': 'B', 'key3': 3.0, 'key4': 'D'}\n"
          ]
        }
      ],
      "source": [
        "print(params)"
      ]
    },
    {
      "cell_type": "code",
      "execution_count": 187,
      "metadata": {
        "id": "D0VeEmpMV20a",
        "outputId": "6a7cc47e-82c1-4e7f-f981-b2a124c3bf0a",
        "colab": {
          "base_uri": "https://localhost:8080/"
        }
      },
      "outputs": [
        {
          "output_type": "execute_result",
          "data": {
            "text/plain": [
              "[('key1', 'A'), ('key2', 'B'), ('key3', 3.0), ('key4', 'D')]"
            ]
          },
          "metadata": {},
          "execution_count": 187
        }
      ],
      "source": [
        "# Dictionaries also have methods.\n",
        "\n",
        "# Convert a dictionary to a list of tuples (key-value pairs).\n",
        "# This is later used to conveniently loop through a dictionary:\n",
        "list(params.items())"
      ]
    },
    {
      "cell_type": "code",
      "execution_count": 188,
      "metadata": {
        "id": "qTeEBB4uV20a"
      },
      "outputs": [],
      "source": [
        "tel = {'jack': 4098, 'sape': 4139}"
      ]
    },
    {
      "cell_type": "code",
      "execution_count": 189,
      "metadata": {
        "id": "JZ_r0BgKV20b",
        "outputId": "8391dc56-535f-40f0-e225-82d17ac9c578",
        "colab": {
          "base_uri": "https://localhost:8080/"
        }
      },
      "outputs": [
        {
          "output_type": "execute_result",
          "data": {
            "text/plain": [
              "dict"
            ]
          },
          "metadata": {},
          "execution_count": 189
        }
      ],
      "source": [
        "type(tel)"
      ]
    },
    {
      "cell_type": "code",
      "execution_count": 190,
      "metadata": {
        "id": "AGh_i0vQV20b",
        "outputId": "fff5ca3e-660b-4ce1-d3e4-5ec0ae911d18",
        "colab": {
          "base_uri": "https://localhost:8080/"
        }
      },
      "outputs": [
        {
          "output_type": "execute_result",
          "data": {
            "text/plain": [
              "4098"
            ]
          },
          "metadata": {},
          "execution_count": 190
        }
      ],
      "source": [
        "tel['jack']"
      ]
    },
    {
      "cell_type": "code",
      "execution_count": 191,
      "metadata": {
        "id": "nGIGGwooV20b",
        "outputId": "7380773e-a105-47c3-c9a5-144e79568e1b",
        "colab": {
          "base_uri": "https://localhost:8080/"
        }
      },
      "outputs": [
        {
          "output_type": "execute_result",
          "data": {
            "text/plain": [
              "{'jack': 4098, 'sape': 4139, 'guido': 4127}"
            ]
          },
          "metadata": {},
          "execution_count": 191
        }
      ],
      "source": [
        "#reassigning guide key\n",
        "tel['guido'] = 4127\n",
        "tel"
      ]
    },
    {
      "cell_type": "code",
      "execution_count": 192,
      "metadata": {
        "id": "U0tLx6EAV20c",
        "outputId": "3ee90440-cd19-42b2-efbf-8c258b45eee0",
        "colab": {
          "base_uri": "https://localhost:8080/"
        }
      },
      "outputs": [
        {
          "output_type": "execute_result",
          "data": {
            "text/plain": [
              "{'jack': 4098, 'guido': 4127, 'irv': 4127}"
            ]
          },
          "metadata": {},
          "execution_count": 192
        }
      ],
      "source": [
        "del tel['sape']\n",
        "tel['irv'] = 4127# artists['denre']['albums']='hello'\n",
        "tel"
      ]
    },
    {
      "cell_type": "code",
      "execution_count": 193,
      "metadata": {
        "id": "cgbj4YHnV20c",
        "outputId": "aee76498-604b-4e4b-944c-b7f93a70e29c",
        "colab": {
          "base_uri": "https://localhost:8080/"
        }
      },
      "outputs": [
        {
          "output_type": "execute_result",
          "data": {
            "text/plain": [
              "['jack', 'guido', 'irv']"
            ]
          },
          "metadata": {},
          "execution_count": 193
        }
      ],
      "source": [
        "list(tel)"
      ]
    },
    {
      "cell_type": "code",
      "execution_count": 194,
      "metadata": {
        "id": "Je7bYSewV20c",
        "outputId": "21562300-6584-4b06-e422-69fe0332dda1",
        "colab": {
          "base_uri": "https://localhost:8080/"
        }
      },
      "outputs": [
        {
          "output_type": "execute_result",
          "data": {
            "text/plain": [
              "['guido', 'irv', 'jack']"
            ]
          },
          "metadata": {},
          "execution_count": 194
        }
      ],
      "source": [
        "sorted(tel)"
      ]
    },
    {
      "cell_type": "code",
      "execution_count": 195,
      "metadata": {
        "id": "a_dqWYwYV20c",
        "outputId": "e4aa27a9-55e5-479e-ede5-111e5ebdaa68",
        "colab": {
          "base_uri": "https://localhost:8080/"
        }
      },
      "outputs": [
        {
          "output_type": "execute_result",
          "data": {
            "text/plain": [
              "True"
            ]
          },
          "metadata": {},
          "execution_count": 195
        }
      ],
      "source": [
        "'guido' in tel"
      ]
    },
    {
      "cell_type": "code",
      "execution_count": 196,
      "metadata": {
        "id": "DGjCi_kOV20c",
        "outputId": "6526c77e-673a-4cdc-e016-43e5928bea83",
        "colab": {
          "base_uri": "https://localhost:8080/"
        }
      },
      "outputs": [
        {
          "output_type": "execute_result",
          "data": {
            "text/plain": [
              "False"
            ]
          },
          "metadata": {},
          "execution_count": 196
        }
      ],
      "source": [
        "'jack' not in tel"
      ]
    },
    {
      "cell_type": "code",
      "execution_count": 197,
      "metadata": {
        "id": "ICHjoD4UV20d"
      },
      "outputs": [],
      "source": [
        "#Another way of dectionary creation\n",
        "d = dict([('sape', 4139), ('guido', 4127), ('jack', 4098)])"
      ]
    },
    {
      "cell_type": "code",
      "execution_count": 198,
      "metadata": {
        "id": "Zm2pPDIsV20d",
        "outputId": "a65a64d0-5263-40e5-eae8-ecfb372d5989",
        "colab": {
          "base_uri": "https://localhost:8080/"
        }
      },
      "outputs": [
        {
          "output_type": "execute_result",
          "data": {
            "text/plain": [
              "{'sape': 4139, 'guido': 4127, 'jack': 4098}"
            ]
          },
          "metadata": {},
          "execution_count": 198
        }
      ],
      "source": [
        "d"
      ]
    },
    {
      "cell_type": "code",
      "execution_count": 199,
      "metadata": {
        "id": "iU4Bpy6XV20d",
        "outputId": "07f141cf-c415-4153-e50b-ba7e28e24b2e",
        "colab": {
          "base_uri": "https://localhost:8080/"
        }
      },
      "outputs": [
        {
          "output_type": "execute_result",
          "data": {
            "text/plain": [
              "dict_keys(['sape', 'guido', 'jack'])"
            ]
          },
          "metadata": {},
          "execution_count": 199
        }
      ],
      "source": [
        "d.keys()"
      ]
    },
    {
      "cell_type": "code",
      "execution_count": 200,
      "metadata": {
        "id": "kJHkK3RkV20d",
        "outputId": "9454f17e-ed3f-4b32-e3a0-5166fd10cbd6",
        "colab": {
          "base_uri": "https://localhost:8080/"
        }
      },
      "outputs": [
        {
          "output_type": "execute_result",
          "data": {
            "text/plain": [
              "dict_keys(['jack', 'guido', 'irv'])"
            ]
          },
          "metadata": {},
          "execution_count": 200
        }
      ],
      "source": [
        "tel.keys()"
      ]
    },
    {
      "cell_type": "code",
      "execution_count": 201,
      "metadata": {
        "id": "BFCPLaytV20d",
        "outputId": "091bd967-e21c-461d-ebb3-cca5b3f5094a",
        "colab": {
          "base_uri": "https://localhost:8080/"
        }
      },
      "outputs": [
        {
          "output_type": "execute_result",
          "data": {
            "text/plain": [
              "dict_values([4098, 4127, 4127])"
            ]
          },
          "metadata": {},
          "execution_count": 201
        }
      ],
      "source": [
        "tel.values()"
      ]
    },
    {
      "cell_type": "code",
      "execution_count": 202,
      "metadata": {
        "id": "UGux_tBQV20e",
        "outputId": "5ed00578-789f-4964-856d-5685f601fd97",
        "colab": {
          "base_uri": "https://localhost:8080/"
        }
      },
      "outputs": [
        {
          "output_type": "execute_result",
          "data": {
            "text/plain": [
              "dict_items([('jack', 4098), ('guido', 4127), ('irv', 4127)])"
            ]
          },
          "metadata": {},
          "execution_count": 202
        }
      ],
      "source": [
        "tel.items()"
      ]
    },
    {
      "cell_type": "code",
      "execution_count": 203,
      "metadata": {
        "id": "Jq3m42BiV20e"
      },
      "outputs": [],
      "source": [
        "artists = {\n",
        "    'Drake': {\n",
        "        'genre': 'Pop',\n",
        "        'albums': [\"God's Plan\", \"Scorpion\", \"Care Package\"],\n",
        "        'on_tour': True\n",
        "    },\n",
        "    'Kraftwerk':{\n",
        "        'genre': 'Electronic',\n",
        "        'albums': ['Manmachine', 'Computerworld', 'Autobahn'],\n",
        "        'on_tour': False\n",
        "    },\n",
        "    'Melt-Banana':{\n",
        "        'genre': 'Power Violence',\n",
        "        'albums': ['Scratch or Stitch', 'MxBx', 'Speak Squeak Creak'],\n",
        "        'on_tour': True\n",
        "    }\n",
        "}"
      ]
    },
    {
      "cell_type": "code",
      "execution_count": 204,
      "metadata": {
        "id": "0bw-gs9kV20e",
        "outputId": "889f7e46-e8b0-4ea1-ac4e-9596fa176cc8",
        "colab": {
          "base_uri": "https://localhost:8080/",
          "height": 36
        }
      },
      "outputs": [
        {
          "output_type": "execute_result",
          "data": {
            "text/plain": [
              "'Scorpion'"
            ],
            "application/vnd.google.colaboratory.intrinsic+json": {
              "type": "string"
            }
          },
          "metadata": {},
          "execution_count": 204
        }
      ],
      "source": [
        "#what is Drake's second album?\n",
        "artists['Drake']['albums'][1]"
      ]
    },
    {
      "cell_type": "code",
      "execution_count": 205,
      "metadata": {
        "id": "3z4YyqLiV20e",
        "outputId": "feb33dfc-b678-42e4-83b1-fec847429e39",
        "colab": {
          "base_uri": "https://localhost:8080/"
        }
      },
      "outputs": [
        {
          "output_type": "execute_result",
          "data": {
            "text/plain": [
              "['Scratch or Stitch', 'MxBx', 'Speak Squeak Creak']"
            ]
          },
          "metadata": {},
          "execution_count": 205
        }
      ],
      "source": [
        "#I would like to know Melt-Banana's albums\n",
        "artists['Melt-Banana']['albums']"
      ]
    },
    {
      "cell_type": "markdown",
      "metadata": {
        "id": "CWlaQuJHV20e"
      },
      "source": [
        "# Questions on dictionaries"
      ]
    },
    {
      "cell_type": "markdown",
      "metadata": {
        "id": "a3oEqjLJV20e"
      },
      "source": [
        "1. Create an New York zipcode dictionary.\n",
        "\n",
        "    With the following key:value pairs:\n",
        "\n",
        "        'wall_street': 10005\n",
        "\n",
        "        'chinatown': 10013\n",
        "\n",
        "        'harlem':10031\n",
        "\n",
        "        'katonah':10536"
      ]
    },
    {
      "cell_type": "markdown",
      "metadata": {
        "id": "vgtqglNrV20f"
      },
      "source": [
        "2. Add scotia to the dictionary with zipcode 12302."
      ]
    },
    {
      "cell_type": "markdown",
      "metadata": {
        "id": "Xt7yhMoMV20f"
      },
      "source": [
        "3. Get the zipcode for 'chinatown', and assign it to a variable."
      ]
    },
    {
      "cell_type": "markdown",
      "metadata": {
        "id": "5bley4LUV20f"
      },
      "source": [
        "4. Get the keys out of the dictionary"
      ]
    },
    {
      "cell_type": "markdown",
      "metadata": {
        "id": "nPoXzPrqV20f"
      },
      "source": [
        "5. Get the key:value pairs out of the dictionary as a list of tuples."
      ]
    },
    {
      "cell_type": "markdown",
      "metadata": {
        "id": "-hNbyz-7V20f"
      },
      "source": [
        "<a id='sets'></a>\n",
        "# Sets"
      ]
    },
    {
      "cell_type": "code",
      "execution_count": 206,
      "metadata": {
        "id": "uf2icyK3V20f"
      },
      "outputs": [],
      "source": [
        "v1 = {'A', 'B', 'A', 'A', 'B'}"
      ]
    },
    {
      "cell_type": "code",
      "execution_count": 207,
      "metadata": {
        "id": "ytct1WVJV20f",
        "outputId": "75d14980-1462-4cfd-fc1a-d36eb88ad2e9",
        "colab": {
          "base_uri": "https://localhost:8080/"
        }
      },
      "outputs": [
        {
          "output_type": "execute_result",
          "data": {
            "text/plain": [
              "{'A', 'B'}"
            ]
          },
          "metadata": {},
          "execution_count": 207
        }
      ],
      "source": [
        "v1"
      ]
    },
    {
      "cell_type": "code",
      "execution_count": 208,
      "metadata": {
        "id": "INtU4ekuV20f"
      },
      "outputs": [],
      "source": [
        "lyrics = '''And still\n",
        "Bad things\n",
        "It's a lot of bad things\n",
        "That they wishin' and wishin' and wishin' and wishin'\n",
        "They wishin' on me\n",
        "Bad things\n",
        "It's a lot of bad things\n",
        "That they wishin' and wishin' and wishin' and wishin'\n",
        "They wishin' on me\n",
        "Yuh, ayy, ayy\n",
        "'''"
      ]
    },
    {
      "cell_type": "code",
      "execution_count": 209,
      "metadata": {
        "id": "uU8H7NXvV20g",
        "outputId": "a72feb37-86b5-40be-daa9-c5a4e3be0202",
        "colab": {
          "base_uri": "https://localhost:8080/"
        }
      },
      "outputs": [
        {
          "output_type": "execute_result",
          "data": {
            "text/plain": [
              "242"
            ]
          },
          "metadata": {},
          "execution_count": 209
        }
      ],
      "source": [
        "len(lyrics)"
      ]
    },
    {
      "cell_type": "code",
      "execution_count": 210,
      "metadata": {
        "id": "0V-ggf-jV20g"
      },
      "outputs": [],
      "source": [
        "words = lyrics.split()"
      ]
    },
    {
      "cell_type": "code",
      "execution_count": 211,
      "metadata": {
        "id": "Rpwhun8ZV20g",
        "outputId": "00d23395-9c6a-43b4-e75c-8afabaa414f5",
        "colab": {
          "base_uri": "https://localhost:8080/"
        }
      },
      "outputs": [
        {
          "output_type": "execute_result",
          "data": {
            "text/plain": [
              "['And',\n",
              " 'still',\n",
              " 'Bad',\n",
              " 'things',\n",
              " \"It's\",\n",
              " 'a',\n",
              " 'lot',\n",
              " 'of',\n",
              " 'bad',\n",
              " 'things',\n",
              " 'That',\n",
              " 'they',\n",
              " \"wishin'\",\n",
              " 'and',\n",
              " \"wishin'\",\n",
              " 'and',\n",
              " \"wishin'\",\n",
              " 'and',\n",
              " \"wishin'\",\n",
              " 'They',\n",
              " \"wishin'\",\n",
              " 'on',\n",
              " 'me',\n",
              " 'Bad',\n",
              " 'things',\n",
              " \"It's\",\n",
              " 'a',\n",
              " 'lot',\n",
              " 'of',\n",
              " 'bad',\n",
              " 'things',\n",
              " 'That',\n",
              " 'they',\n",
              " \"wishin'\",\n",
              " 'and',\n",
              " \"wishin'\",\n",
              " 'and',\n",
              " \"wishin'\",\n",
              " 'and',\n",
              " \"wishin'\",\n",
              " 'They',\n",
              " \"wishin'\",\n",
              " 'on',\n",
              " 'me',\n",
              " 'Yuh,',\n",
              " 'ayy,',\n",
              " 'ayy']"
            ]
          },
          "metadata": {},
          "execution_count": 211
        }
      ],
      "source": [
        "words"
      ]
    },
    {
      "cell_type": "code",
      "execution_count": 212,
      "metadata": {
        "id": "aQVlYqHLV20g",
        "outputId": "248d5120-a8dd-4599-af30-69d44d83d7e9",
        "colab": {
          "base_uri": "https://localhost:8080/"
        }
      },
      "outputs": [
        {
          "output_type": "execute_result",
          "data": {
            "text/plain": [
              "['And', 'still', 'Bad', 'things', \"It's\", 'a', 'lot', 'of', 'bad', 'things']"
            ]
          },
          "metadata": {},
          "execution_count": 212
        }
      ],
      "source": [
        "words[:10]"
      ]
    },
    {
      "cell_type": "code",
      "execution_count": 213,
      "metadata": {
        "id": "0Yk7sjXEV20g",
        "outputId": "f95a9f57-5ad2-48a7-87e7-b24ba8902747",
        "colab": {
          "base_uri": "https://localhost:8080/"
        }
      },
      "outputs": [
        {
          "output_type": "execute_result",
          "data": {
            "text/plain": [
              "47"
            ]
          },
          "metadata": {},
          "execution_count": 213
        }
      ],
      "source": [
        "len(words)"
      ]
    },
    {
      "cell_type": "code",
      "execution_count": 214,
      "metadata": {
        "id": "hzKR1L5lV20h",
        "outputId": "ed8599cb-db80-467e-86c2-69dcefa33d55",
        "colab": {
          "base_uri": "https://localhost:8080/"
        }
      },
      "outputs": [
        {
          "output_type": "execute_result",
          "data": {
            "text/plain": [
              "{'And',\n",
              " 'Bad',\n",
              " \"It's\",\n",
              " 'That',\n",
              " 'They',\n",
              " 'Yuh,',\n",
              " 'a',\n",
              " 'and',\n",
              " 'ayy',\n",
              " 'ayy,',\n",
              " 'bad',\n",
              " 'lot',\n",
              " 'me',\n",
              " 'of',\n",
              " 'on',\n",
              " 'still',\n",
              " 'they',\n",
              " 'things',\n",
              " \"wishin'\"}"
            ]
          },
          "metadata": {},
          "execution_count": 214
        }
      ],
      "source": [
        "set(words)"
      ]
    },
    {
      "cell_type": "code",
      "execution_count": 215,
      "metadata": {
        "id": "SyqTLf6kV20h",
        "outputId": "e48bd834-7cda-4ba1-ad17-0a7954a7f33b",
        "colab": {
          "base_uri": "https://localhost:8080/"
        }
      },
      "outputs": [
        {
          "output_type": "execute_result",
          "data": {
            "text/plain": [
              "19"
            ]
          },
          "metadata": {},
          "execution_count": 215
        }
      ],
      "source": [
        "len(set(words))"
      ]
    },
    {
      "cell_type": "code",
      "execution_count": 217,
      "metadata": {
        "id": "FeQ5LbaGV20h",
        "outputId": "f8161772-0c51-46ec-b6dd-a2047c4a309f",
        "colab": {
          "base_uri": "https://localhost:8080/"
        }
      },
      "outputs": [
        {
          "output_type": "stream",
          "name": "stdout",
          "text": [
            "0.40425531914893614\n"
          ]
        }
      ],
      "source": [
        "lexical_diversity = len(set(words))/len(words)\n",
        "print(lexical_diversity)"
      ]
    },
    {
      "cell_type": "code",
      "execution_count": 218,
      "metadata": {
        "id": "RIcPey0rV20h",
        "outputId": "da3f9c44-fe82-428f-8449-5f90e9bdda7c",
        "colab": {
          "base_uri": "https://localhost:8080/"
        }
      },
      "outputs": [
        {
          "output_type": "stream",
          "name": "stdout",
          "text": [
            "This verse of Drake is 0.40\n"
          ]
        }
      ],
      "source": [
        "#print the lexical diversity rounded to two decimals\n",
        "print(f'This verse of Drake is {lexical_diversity:.2f}')"
      ]
    },
    {
      "cell_type": "code",
      "execution_count": 219,
      "metadata": {
        "id": "kZJEpPcYV20h"
      },
      "outputs": [],
      "source": [
        "words = {'a', 'new', 'set', 'of', 'words'}"
      ]
    },
    {
      "cell_type": "code",
      "execution_count": 220,
      "metadata": {
        "id": "pDWzx3WvV20i"
      },
      "outputs": [],
      "source": [
        "words.add('G.O.D')"
      ]
    },
    {
      "cell_type": "code",
      "execution_count": 221,
      "metadata": {
        "id": "IKPmi4U2V20i",
        "outputId": "7e675c94-919e-4869-ec71-d8750e4eb5f5",
        "colab": {
          "base_uri": "https://localhost:8080/"
        }
      },
      "outputs": [
        {
          "output_type": "execute_result",
          "data": {
            "text/plain": [
              "{'G.O.D', 'a', 'new', 'of', 'set', 'words'}"
            ]
          },
          "metadata": {},
          "execution_count": 221
        }
      ],
      "source": [
        "words"
      ]
    },
    {
      "cell_type": "code",
      "execution_count": 222,
      "metadata": {
        "id": "ijsuhcPkV20i"
      },
      "outputs": [],
      "source": [
        "words.remove('words')"
      ]
    },
    {
      "cell_type": "code",
      "execution_count": 223,
      "metadata": {
        "id": "4BT5XqQNV20i",
        "outputId": "f48ca1a2-7682-4cb0-ba4c-b8e46c2c71ff",
        "colab": {
          "base_uri": "https://localhost:8080/"
        }
      },
      "outputs": [
        {
          "output_type": "execute_result",
          "data": {
            "text/plain": [
              "{'G.O.D', 'a', 'new', 'of', 'set'}"
            ]
          },
          "metadata": {},
          "execution_count": 223
        }
      ],
      "source": [
        "words"
      ]
    },
    {
      "cell_type": "code",
      "execution_count": 224,
      "metadata": {
        "id": "YoO0OEVUV20i"
      },
      "outputs": [],
      "source": [
        "other_words = {'another', 'set', 'of', 'new', 'words'}"
      ]
    },
    {
      "cell_type": "code",
      "execution_count": 225,
      "metadata": {
        "id": "3YoVnBbfV20i",
        "outputId": "c185b7a2-f2e1-4ac1-fe78-858edcbac048",
        "colab": {
          "base_uri": "https://localhost:8080/"
        }
      },
      "outputs": [
        {
          "output_type": "execute_result",
          "data": {
            "text/plain": [
              "{'new', 'of', 'set'}"
            ]
          },
          "metadata": {},
          "execution_count": 225
        }
      ],
      "source": [
        "words.intersection(other_words)"
      ]
    },
    {
      "cell_type": "code",
      "execution_count": 226,
      "metadata": {
        "id": "ZfiIs8w4V20j",
        "outputId": "c9a0d6e0-7779-4789-b48b-f002ba872d2d",
        "colab": {
          "base_uri": "https://localhost:8080/"
        }
      },
      "outputs": [
        {
          "output_type": "execute_result",
          "data": {
            "text/plain": [
              "{'G.O.D', 'a', 'another', 'new', 'of', 'set', 'words'}"
            ]
          },
          "metadata": {},
          "execution_count": 226
        }
      ],
      "source": [
        "words.union(other_words)"
      ]
    },
    {
      "cell_type": "code",
      "execution_count": 227,
      "metadata": {
        "id": "tDjzbXjoV20j",
        "outputId": "23fda4a3-67a7-4af6-d8e6-f61c2f8abd2b",
        "colab": {
          "base_uri": "https://localhost:8080/"
        }
      },
      "outputs": [
        {
          "output_type": "stream",
          "name": "stdout",
          "text": [
            "{8, 1, 3, 7}\n"
          ]
        }
      ],
      "source": [
        "x1 = {9,5,6,3,7,8,1}\n",
        "x2 = {7,1,3,2,0,4,8}\n",
        "x1.symmetric_difference(x2)\n",
        "print(x1.intersection(x2))"
      ]
    },
    {
      "cell_type": "markdown",
      "metadata": {
        "id": "xcuOfP88V20j"
      },
      "source": [
        "<a id='quer'></a>\n",
        "# Queries and Inputs"
      ]
    },
    {
      "cell_type": "code",
      "execution_count": 228,
      "metadata": {
        "id": "DuGfTlmnV20k"
      },
      "outputs": [],
      "source": [
        "#a,b,c=55\n",
        "#a,b,c = 55,55,55\n",
        "#a=b=c=55\n",
        "#a=55;b=a;c=b\n",
        "#x=45\n",
        "#y=7\n",
        "#x%=y\n",
        "#print(x)\n",
        "#a=4**3\n",
        "#b=pow(4,3)\n",
        "#print(a,b)\n",
        "#x=8\n",
        "#if x>8:\n",
        "#    print(20)\n",
        "#else:\n",
        "#    print(10)\n",
        "\n",
        "#int('10.8')\n",
        "#float(10)\n",
        "#int(10)\n",
        "#float(10.8)"
      ]
    },
    {
      "cell_type": "code",
      "execution_count": 229,
      "metadata": {
        "id": "tBKYYVgUV20k",
        "outputId": "f1a9302b-c20f-42d1-c722-eb40aac030d7",
        "colab": {
          "base_uri": "https://localhost:8080/"
        }
      },
      "outputs": [
        {
          "output_type": "execute_result",
          "data": {
            "text/plain": [
              "{1: 'one', 2: 'two', 3: 'three', 4: 'four'}"
            ]
          },
          "metadata": {},
          "execution_count": 229
        }
      ],
      "source": [
        "keys = [1,2,3,4]\n",
        "values = ['one', 'two','three','four']\n",
        "zipdict = dict(zip(keys, values))\n",
        "zipdict"
      ]
    },
    {
      "cell_type": "code",
      "execution_count": 230,
      "metadata": {
        "id": "4JAbUwlbV20k",
        "outputId": "ef659e01-1190-4e28-9abc-92655c1e525a",
        "colab": {
          "base_uri": "https://localhost:8080/"
        }
      },
      "outputs": [
        {
          "output_type": "execute_result",
          "data": {
            "text/plain": [
              "dict_values(['one', 'two', 'three', 'four'])"
            ]
          },
          "metadata": {},
          "execution_count": 230
        }
      ],
      "source": [
        "zipdict.values()"
      ]
    },
    {
      "cell_type": "code",
      "execution_count": 232,
      "metadata": {
        "id": "5RHzTnn_V20l",
        "outputId": "8b19fdff-6b72-4143-8bcb-5b56b6207233",
        "colab": {
          "base_uri": "https://localhost:8080/",
          "height": 36
        }
      },
      "outputs": [
        {
          "output_type": "execute_result",
          "data": {
            "text/plain": [
              "'suvin sai'"
            ],
            "application/vnd.google.colaboratory.intrinsic+json": {
              "type": "string"
            }
          },
          "metadata": {},
          "execution_count": 232
        }
      ],
      "source": [
        "dict={19:\"suvin sai\",20:\"usina\",21:\"dfghjui\"}\n",
        "dict.get(19)"
      ]
    },
    {
      "cell_type": "code",
      "execution_count": 233,
      "metadata": {
        "id": "o3OBqdNbV20l",
        "outputId": "79af7315-6898-4a06-9fde-d98c5394fa40",
        "colab": {
          "base_uri": "https://localhost:8080/",
          "height": 36
        }
      },
      "outputs": [
        {
          "output_type": "execute_result",
          "data": {
            "text/plain": [
              "'suvin sai'"
            ],
            "application/vnd.google.colaboratory.intrinsic+json": {
              "type": "string"
            }
          },
          "metadata": {},
          "execution_count": 233
        }
      ],
      "source": [
        "dict[19]"
      ]
    },
    {
      "cell_type": "code",
      "execution_count": null,
      "metadata": {
        "id": "bBY9-hDZV20l"
      },
      "outputs": [],
      "source": []
    }
  ],
  "metadata": {
    "kernelspec": {
      "display_name": "Python 3 (ipykernel)",
      "language": "python",
      "name": "python3"
    },
    "language_info": {
      "codemirror_mode": {
        "name": "ipython",
        "version": 3
      },
      "file_extension": ".py",
      "mimetype": "text/x-python",
      "name": "python",
      "nbconvert_exporter": "python",
      "pygments_lexer": "ipython3",
      "version": "3.11.5"
    },
    "colab": {
      "provenance": []
    }
  },
  "nbformat": 4,
  "nbformat_minor": 0
}